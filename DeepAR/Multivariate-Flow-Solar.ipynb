{
 "cells": [
  {
   "cell_type": "code",
   "execution_count": 1,
   "metadata": {
    "pycharm": {
     "is_executing": false
    }
   },
   "outputs": [],
   "source": [
    "import numpy as np\n",
    "import pandas as pd\n",
    "\n",
    "import torch"
   ]
  },
  {
   "cell_type": "code",
   "execution_count": 2,
   "metadata": {
    "pycharm": {
     "is_executing": false
    }
   },
   "outputs": [],
   "source": [
    "from pts.dataset import to_pandas, MultivariateGrouper, TrainDatasets\n",
    "from pts.dataset.repository import get_dataset, dataset_recipes\n",
    "from pts.model.tempflow import TempFlowEstimator\n",
    "from pts.model.transformer_tempflow import TransformerTempFlowEstimator\n",
    "from pts import Trainer\n",
    "from pts.evaluation import make_evaluation_predictions\n",
    "from pts.evaluation import MultivariateEvaluator"
   ]
  },
  {
   "cell_type": "code",
   "execution_count": 4,
   "metadata": {
    "pycharm": {
     "is_executing": false
    }
   },
   "outputs": [],
   "source": [
    "device = torch.device(\"cuda\" if torch.cuda.is_available() else \"cpu\")"
   ]
  },
  {
   "cell_type": "markdown",
   "metadata": {},
   "source": [
    "## Prepeare data set"
   ]
  },
  {
   "cell_type": "code",
   "execution_count": 5,
   "metadata": {
    "pycharm": {
     "is_executing": false
    }
   },
   "outputs": [
    {
     "traceback": [
      "\u001b[0;31m---------------------------------------------------------------------------\u001b[0m",
      "\u001b[0;31mConnectionRefusedError\u001b[0m                    Traceback (most recent call last)",
      "\u001b[0;32m~/anaconda3/envs/AIEnvTorch/lib/python3.7/urllib/request.py\u001b[0m in \u001b[0;36mdo_open\u001b[0;34m(self, http_class, req, **http_conn_args)\u001b[0m\n\u001b[1;32m   1318\u001b[0m                 h.request(req.get_method(), req.selector, req.data, headers,\n\u001b[0;32m-> 1319\u001b[0;31m                           encode_chunked=req.has_header('Transfer-encoding'))\n\u001b[0m\u001b[1;32m   1320\u001b[0m             \u001b[0;32mexcept\u001b[0m \u001b[0mOSError\u001b[0m \u001b[0;32mas\u001b[0m \u001b[0merr\u001b[0m\u001b[0;34m:\u001b[0m \u001b[0;31m# timeout error\u001b[0m\u001b[0;34m\u001b[0m\u001b[0;34m\u001b[0m\u001b[0m\n",
      "\u001b[0;32m~/anaconda3/envs/AIEnvTorch/lib/python3.7/http/client.py\u001b[0m in \u001b[0;36mrequest\u001b[0;34m(self, method, url, body, headers, encode_chunked)\u001b[0m\n\u001b[1;32m   1251\u001b[0m         \u001b[0;34m\"\"\"Send a complete request to the server.\"\"\"\u001b[0m\u001b[0;34m\u001b[0m\u001b[0;34m\u001b[0m\u001b[0m\n\u001b[0;32m-> 1252\u001b[0;31m         \u001b[0mself\u001b[0m\u001b[0;34m.\u001b[0m\u001b[0m_send_request\u001b[0m\u001b[0;34m(\u001b[0m\u001b[0mmethod\u001b[0m\u001b[0;34m,\u001b[0m \u001b[0murl\u001b[0m\u001b[0;34m,\u001b[0m \u001b[0mbody\u001b[0m\u001b[0;34m,\u001b[0m \u001b[0mheaders\u001b[0m\u001b[0;34m,\u001b[0m \u001b[0mencode_chunked\u001b[0m\u001b[0;34m)\u001b[0m\u001b[0;34m\u001b[0m\u001b[0;34m\u001b[0m\u001b[0m\n\u001b[0m\u001b[1;32m   1253\u001b[0m \u001b[0;34m\u001b[0m\u001b[0m\n",
      "\u001b[0;32m~/anaconda3/envs/AIEnvTorch/lib/python3.7/http/client.py\u001b[0m in \u001b[0;36m_send_request\u001b[0;34m(self, method, url, body, headers, encode_chunked)\u001b[0m\n\u001b[1;32m   1297\u001b[0m             \u001b[0mbody\u001b[0m \u001b[0;34m=\u001b[0m \u001b[0m_encode\u001b[0m\u001b[0;34m(\u001b[0m\u001b[0mbody\u001b[0m\u001b[0;34m,\u001b[0m \u001b[0;34m'body'\u001b[0m\u001b[0;34m)\u001b[0m\u001b[0;34m\u001b[0m\u001b[0;34m\u001b[0m\u001b[0m\n\u001b[0;32m-> 1298\u001b[0;31m         \u001b[0mself\u001b[0m\u001b[0;34m.\u001b[0m\u001b[0mendheaders\u001b[0m\u001b[0;34m(\u001b[0m\u001b[0mbody\u001b[0m\u001b[0;34m,\u001b[0m \u001b[0mencode_chunked\u001b[0m\u001b[0;34m=\u001b[0m\u001b[0mencode_chunked\u001b[0m\u001b[0;34m)\u001b[0m\u001b[0;34m\u001b[0m\u001b[0;34m\u001b[0m\u001b[0m\n\u001b[0m\u001b[1;32m   1299\u001b[0m \u001b[0;34m\u001b[0m\u001b[0m\n",
      "\u001b[0;32m~/anaconda3/envs/AIEnvTorch/lib/python3.7/http/client.py\u001b[0m in \u001b[0;36mendheaders\u001b[0;34m(self, message_body, encode_chunked)\u001b[0m\n\u001b[1;32m   1246\u001b[0m             \u001b[0;32mraise\u001b[0m \u001b[0mCannotSendHeader\u001b[0m\u001b[0;34m(\u001b[0m\u001b[0;34m)\u001b[0m\u001b[0;34m\u001b[0m\u001b[0;34m\u001b[0m\u001b[0m\n\u001b[0;32m-> 1247\u001b[0;31m         \u001b[0mself\u001b[0m\u001b[0;34m.\u001b[0m\u001b[0m_send_output\u001b[0m\u001b[0;34m(\u001b[0m\u001b[0mmessage_body\u001b[0m\u001b[0;34m,\u001b[0m \u001b[0mencode_chunked\u001b[0m\u001b[0;34m=\u001b[0m\u001b[0mencode_chunked\u001b[0m\u001b[0;34m)\u001b[0m\u001b[0;34m\u001b[0m\u001b[0;34m\u001b[0m\u001b[0m\n\u001b[0m\u001b[1;32m   1248\u001b[0m \u001b[0;34m\u001b[0m\u001b[0m\n",
      "\u001b[0;32m~/anaconda3/envs/AIEnvTorch/lib/python3.7/http/client.py\u001b[0m in \u001b[0;36m_send_output\u001b[0;34m(self, message_body, encode_chunked)\u001b[0m\n\u001b[1;32m   1025\u001b[0m         \u001b[0;32mdel\u001b[0m \u001b[0mself\u001b[0m\u001b[0;34m.\u001b[0m\u001b[0m_buffer\u001b[0m\u001b[0;34m[\u001b[0m\u001b[0;34m:\u001b[0m\u001b[0;34m]\u001b[0m\u001b[0;34m\u001b[0m\u001b[0;34m\u001b[0m\u001b[0m\n\u001b[0;32m-> 1026\u001b[0;31m         \u001b[0mself\u001b[0m\u001b[0;34m.\u001b[0m\u001b[0msend\u001b[0m\u001b[0;34m(\u001b[0m\u001b[0mmsg\u001b[0m\u001b[0;34m)\u001b[0m\u001b[0;34m\u001b[0m\u001b[0;34m\u001b[0m\u001b[0m\n\u001b[0m\u001b[1;32m   1027\u001b[0m \u001b[0;34m\u001b[0m\u001b[0m\n",
      "\u001b[0;32m~/anaconda3/envs/AIEnvTorch/lib/python3.7/http/client.py\u001b[0m in \u001b[0;36msend\u001b[0;34m(self, data)\u001b[0m\n\u001b[1;32m    965\u001b[0m             \u001b[0;32mif\u001b[0m \u001b[0mself\u001b[0m\u001b[0;34m.\u001b[0m\u001b[0mauto_open\u001b[0m\u001b[0;34m:\u001b[0m\u001b[0;34m\u001b[0m\u001b[0;34m\u001b[0m\u001b[0m\n\u001b[0;32m--> 966\u001b[0;31m                 \u001b[0mself\u001b[0m\u001b[0;34m.\u001b[0m\u001b[0mconnect\u001b[0m\u001b[0;34m(\u001b[0m\u001b[0;34m)\u001b[0m\u001b[0;34m\u001b[0m\u001b[0;34m\u001b[0m\u001b[0m\n\u001b[0m\u001b[1;32m    967\u001b[0m             \u001b[0;32melse\u001b[0m\u001b[0;34m:\u001b[0m\u001b[0;34m\u001b[0m\u001b[0;34m\u001b[0m\u001b[0m\n",
      "\u001b[0;32m~/anaconda3/envs/AIEnvTorch/lib/python3.7/http/client.py\u001b[0m in \u001b[0;36mconnect\u001b[0;34m(self)\u001b[0m\n\u001b[1;32m   1413\u001b[0m \u001b[0;34m\u001b[0m\u001b[0m\n\u001b[0;32m-> 1414\u001b[0;31m             \u001b[0msuper\u001b[0m\u001b[0;34m(\u001b[0m\u001b[0;34m)\u001b[0m\u001b[0;34m.\u001b[0m\u001b[0mconnect\u001b[0m\u001b[0;34m(\u001b[0m\u001b[0;34m)\u001b[0m\u001b[0;34m\u001b[0m\u001b[0;34m\u001b[0m\u001b[0m\n\u001b[0m\u001b[1;32m   1415\u001b[0m \u001b[0;34m\u001b[0m\u001b[0m\n",
      "\u001b[0;32m~/anaconda3/envs/AIEnvTorch/lib/python3.7/http/client.py\u001b[0m in \u001b[0;36mconnect\u001b[0;34m(self)\u001b[0m\n\u001b[1;32m    937\u001b[0m         self.sock = self._create_connection(\n\u001b[0;32m--> 938\u001b[0;31m             (self.host,self.port), self.timeout, self.source_address)\n\u001b[0m\u001b[1;32m    939\u001b[0m         \u001b[0mself\u001b[0m\u001b[0;34m.\u001b[0m\u001b[0msock\u001b[0m\u001b[0;34m.\u001b[0m\u001b[0msetsockopt\u001b[0m\u001b[0;34m(\u001b[0m\u001b[0msocket\u001b[0m\u001b[0;34m.\u001b[0m\u001b[0mIPPROTO_TCP\u001b[0m\u001b[0;34m,\u001b[0m \u001b[0msocket\u001b[0m\u001b[0;34m.\u001b[0m\u001b[0mTCP_NODELAY\u001b[0m\u001b[0;34m,\u001b[0m \u001b[0;36m1\u001b[0m\u001b[0;34m)\u001b[0m\u001b[0;34m\u001b[0m\u001b[0;34m\u001b[0m\u001b[0m\n",
      "\u001b[0;32m~/anaconda3/envs/AIEnvTorch/lib/python3.7/socket.py\u001b[0m in \u001b[0;36mcreate_connection\u001b[0;34m(address, timeout, source_address)\u001b[0m\n\u001b[1;32m    727\u001b[0m         \u001b[0;32mtry\u001b[0m\u001b[0;34m:\u001b[0m\u001b[0;34m\u001b[0m\u001b[0;34m\u001b[0m\u001b[0m\n\u001b[0;32m--> 728\u001b[0;31m             \u001b[0;32mraise\u001b[0m \u001b[0merr\u001b[0m\u001b[0;34m\u001b[0m\u001b[0;34m\u001b[0m\u001b[0m\n\u001b[0m\u001b[1;32m    729\u001b[0m         \u001b[0;32mfinally\u001b[0m\u001b[0;34m:\u001b[0m\u001b[0;34m\u001b[0m\u001b[0;34m\u001b[0m\u001b[0m\n",
      "\u001b[0;32m~/anaconda3/envs/AIEnvTorch/lib/python3.7/socket.py\u001b[0m in \u001b[0;36mcreate_connection\u001b[0;34m(address, timeout, source_address)\u001b[0m\n\u001b[1;32m    715\u001b[0m                 \u001b[0msock\u001b[0m\u001b[0;34m.\u001b[0m\u001b[0mbind\u001b[0m\u001b[0;34m(\u001b[0m\u001b[0msource_address\u001b[0m\u001b[0;34m)\u001b[0m\u001b[0;34m\u001b[0m\u001b[0;34m\u001b[0m\u001b[0m\n\u001b[0;32m--> 716\u001b[0;31m             \u001b[0msock\u001b[0m\u001b[0;34m.\u001b[0m\u001b[0mconnect\u001b[0m\u001b[0;34m(\u001b[0m\u001b[0msa\u001b[0m\u001b[0;34m)\u001b[0m\u001b[0;34m\u001b[0m\u001b[0;34m\u001b[0m\u001b[0m\n\u001b[0m\u001b[1;32m    717\u001b[0m             \u001b[0;31m# Break explicitly a reference cycle\u001b[0m\u001b[0;34m\u001b[0m\u001b[0;34m\u001b[0m\u001b[0;34m\u001b[0m\u001b[0m\n",
      "\u001b[0;31mConnectionRefusedError\u001b[0m: [Errno 61] Connection refused",
      "\nDuring handling of the above exception, another exception occurred:\n",
      "\u001b[0;31mURLError\u001b[0m                                  Traceback (most recent call last)",
      "\u001b[0;32m<ipython-input-5-bec0903f9136>\u001b[0m in \u001b[0;36m<module>\u001b[0;34m\u001b[0m\n\u001b[0;32m----> 1\u001b[0;31m \u001b[0mdataset\u001b[0m \u001b[0;34m=\u001b[0m \u001b[0mget_dataset\u001b[0m\u001b[0;34m(\u001b[0m\u001b[0;34m\"solar_nips\"\u001b[0m\u001b[0;34m,\u001b[0m \u001b[0mregenerate\u001b[0m\u001b[0;34m=\u001b[0m\u001b[0;32mFalse\u001b[0m\u001b[0;34m,\u001b[0m \u001b[0mshuffle\u001b[0m\u001b[0;34m=\u001b[0m\u001b[0;32mFalse\u001b[0m\u001b[0;34m)\u001b[0m\u001b[0;34m\u001b[0m\u001b[0;34m\u001b[0m\u001b[0m\n\u001b[0m",
      "\u001b[0;32m~/anaconda3/envs/AIEnvTorch/lib/python3.7/site-packages/pytorchts-0.1.0-py3.7.egg/pts/dataset/repository/datasets.py\u001b[0m in \u001b[0;36mget_dataset\u001b[0;34m(dataset_name, path, regenerate, shuffle)\u001b[0m\n\u001b[1;32m    159\u001b[0m         \u001b[0mdataset\u001b[0m \u001b[0mobtained\u001b[0m \u001b[0mby\u001b[0m \u001b[0meither\u001b[0m \u001b[0mdownloading\u001b[0m \u001b[0;32mor\u001b[0m \u001b[0mreloading\u001b[0m \u001b[0;32mfrom\u001b[0m \u001b[0mlocal\u001b[0m \u001b[0mfile\u001b[0m\u001b[0;34m.\u001b[0m\u001b[0;34m\u001b[0m\u001b[0;34m\u001b[0m\u001b[0m\n\u001b[1;32m    160\u001b[0m     \"\"\"\n\u001b[0;32m--> 161\u001b[0;31m     \u001b[0mdataset_path\u001b[0m \u001b[0;34m=\u001b[0m \u001b[0mmaterialize_dataset\u001b[0m\u001b[0;34m(\u001b[0m\u001b[0mdataset_name\u001b[0m\u001b[0;34m,\u001b[0m \u001b[0mpath\u001b[0m\u001b[0;34m,\u001b[0m \u001b[0mregenerate\u001b[0m\u001b[0;34m)\u001b[0m\u001b[0;34m\u001b[0m\u001b[0;34m\u001b[0m\u001b[0m\n\u001b[0m\u001b[1;32m    162\u001b[0m \u001b[0;34m\u001b[0m\u001b[0m\n\u001b[1;32m    163\u001b[0m     return load_datasets(\n",
      "\u001b[0;32m~/anaconda3/envs/AIEnvTorch/lib/python3.7/site-packages/pytorchts-0.1.0-py3.7.egg/pts/dataset/repository/datasets.py\u001b[0m in \u001b[0;36mmaterialize_dataset\u001b[0;34m(dataset_name, path, regenerate)\u001b[0m\n\u001b[1;32m    125\u001b[0m     \u001b[0;32mif\u001b[0m \u001b[0;32mnot\u001b[0m \u001b[0mdataset_path\u001b[0m\u001b[0;34m.\u001b[0m\u001b[0mexists\u001b[0m\u001b[0;34m(\u001b[0m\u001b[0;34m)\u001b[0m \u001b[0;32mor\u001b[0m \u001b[0mregenerate\u001b[0m\u001b[0;34m:\u001b[0m\u001b[0;34m\u001b[0m\u001b[0;34m\u001b[0m\u001b[0m\n\u001b[1;32m    126\u001b[0m         \u001b[0mlogging\u001b[0m\u001b[0;34m.\u001b[0m\u001b[0minfo\u001b[0m\u001b[0;34m(\u001b[0m\u001b[0;34mf\"downloading and processing {dataset_name}\"\u001b[0m\u001b[0;34m)\u001b[0m\u001b[0;34m\u001b[0m\u001b[0;34m\u001b[0m\u001b[0m\n\u001b[0;32m--> 127\u001b[0;31m         \u001b[0mdataset_recipe\u001b[0m\u001b[0;34m(\u001b[0m\u001b[0mdataset_path\u001b[0m\u001b[0;34m=\u001b[0m\u001b[0mdataset_path\u001b[0m\u001b[0;34m)\u001b[0m\u001b[0;34m\u001b[0m\u001b[0;34m\u001b[0m\u001b[0m\n\u001b[0m\u001b[1;32m    128\u001b[0m     \u001b[0;32melse\u001b[0m\u001b[0;34m:\u001b[0m\u001b[0;34m\u001b[0m\u001b[0;34m\u001b[0m\u001b[0m\n\u001b[1;32m    129\u001b[0m         \u001b[0mlogging\u001b[0m\u001b[0;34m.\u001b[0m\u001b[0minfo\u001b[0m\u001b[0;34m(\u001b[0m\u001b[0;34mf\"using dataset already processed in path {dataset_path}.\"\u001b[0m\u001b[0;34m)\u001b[0m\u001b[0;34m\u001b[0m\u001b[0;34m\u001b[0m\u001b[0m\n",
      "\u001b[0;32m~/anaconda3/envs/AIEnvTorch/lib/python3.7/site-packages/pytorchts-0.1.0-py3.7.egg/pts/dataset/repository/_gp_copula_2019.py\u001b[0m in \u001b[0;36mgenerate_gp_copula_dataset\u001b[0;34m(dataset_path, dataset_name)\u001b[0m\n\u001b[1;32m    109\u001b[0m     \u001b[0mos\u001b[0m\u001b[0;34m.\u001b[0m\u001b[0mmakedirs\u001b[0m\u001b[0;34m(\u001b[0m\u001b[0mdataset_path\u001b[0m\u001b[0;34m,\u001b[0m \u001b[0mexist_ok\u001b[0m\u001b[0;34m=\u001b[0m\u001b[0;32mTrue\u001b[0m\u001b[0;34m)\u001b[0m\u001b[0;34m\u001b[0m\u001b[0;34m\u001b[0m\u001b[0m\n\u001b[1;32m    110\u001b[0m \u001b[0;34m\u001b[0m\u001b[0m\n\u001b[0;32m--> 111\u001b[0;31m     \u001b[0mdownload_dataset\u001b[0m\u001b[0;34m(\u001b[0m\u001b[0mdataset_path\u001b[0m\u001b[0;34m.\u001b[0m\u001b[0mparent\u001b[0m\u001b[0;34m,\u001b[0m \u001b[0mds_info\u001b[0m\u001b[0;34m)\u001b[0m\u001b[0;34m\u001b[0m\u001b[0;34m\u001b[0m\u001b[0m\n\u001b[0m\u001b[1;32m    112\u001b[0m     \u001b[0msave_metadata\u001b[0m\u001b[0;34m(\u001b[0m\u001b[0mdataset_path\u001b[0m\u001b[0;34m,\u001b[0m \u001b[0mds_info\u001b[0m\u001b[0;34m)\u001b[0m\u001b[0;34m\u001b[0m\u001b[0;34m\u001b[0m\u001b[0m\n\u001b[1;32m    113\u001b[0m     \u001b[0msave_dataset\u001b[0m\u001b[0;34m(\u001b[0m\u001b[0mdataset_path\u001b[0m \u001b[0;34m/\u001b[0m \u001b[0;34m\"train\"\u001b[0m\u001b[0;34m,\u001b[0m \u001b[0mds_info\u001b[0m\u001b[0;34m)\u001b[0m\u001b[0;34m\u001b[0m\u001b[0;34m\u001b[0m\u001b[0m\n",
      "\u001b[0;32m~/anaconda3/envs/AIEnvTorch/lib/python3.7/site-packages/pytorchts-0.1.0-py3.7.egg/pts/dataset/repository/_gp_copula_2019.py\u001b[0m in \u001b[0;36mdownload_dataset\u001b[0;34m(dataset_path, ds_info)\u001b[0m\n\u001b[1;32m    117\u001b[0m \u001b[0;34m\u001b[0m\u001b[0m\n\u001b[1;32m    118\u001b[0m \u001b[0;32mdef\u001b[0m \u001b[0mdownload_dataset\u001b[0m\u001b[0;34m(\u001b[0m\u001b[0mdataset_path\u001b[0m\u001b[0;34m:\u001b[0m \u001b[0mPath\u001b[0m\u001b[0;34m,\u001b[0m \u001b[0mds_info\u001b[0m\u001b[0;34m:\u001b[0m \u001b[0mGPCopulaDataset\u001b[0m\u001b[0;34m)\u001b[0m\u001b[0;34m:\u001b[0m\u001b[0;34m\u001b[0m\u001b[0;34m\u001b[0m\u001b[0m\n\u001b[0;32m--> 119\u001b[0;31m     \u001b[0mrequest\u001b[0m\u001b[0;34m.\u001b[0m\u001b[0murlretrieve\u001b[0m\u001b[0;34m(\u001b[0m\u001b[0mds_info\u001b[0m\u001b[0;34m.\u001b[0m\u001b[0murl\u001b[0m\u001b[0;34m,\u001b[0m \u001b[0mdataset_path\u001b[0m \u001b[0;34m/\u001b[0m \u001b[0;34mf\"{ds_info.name}.tar.gz\"\u001b[0m\u001b[0;34m)\u001b[0m\u001b[0;34m\u001b[0m\u001b[0;34m\u001b[0m\u001b[0m\n\u001b[0m\u001b[1;32m    120\u001b[0m \u001b[0;34m\u001b[0m\u001b[0m\n\u001b[1;32m    121\u001b[0m     \u001b[0;32mwith\u001b[0m \u001b[0mtarfile\u001b[0m\u001b[0;34m.\u001b[0m\u001b[0mopen\u001b[0m\u001b[0;34m(\u001b[0m\u001b[0mdataset_path\u001b[0m \u001b[0;34m/\u001b[0m \u001b[0;34mf\"{ds_info.name}.tar.gz\"\u001b[0m\u001b[0;34m)\u001b[0m \u001b[0;32mas\u001b[0m \u001b[0mtar\u001b[0m\u001b[0;34m:\u001b[0m\u001b[0;34m\u001b[0m\u001b[0;34m\u001b[0m\u001b[0m\n",
      "\u001b[0;32m~/anaconda3/envs/AIEnvTorch/lib/python3.7/urllib/request.py\u001b[0m in \u001b[0;36murlretrieve\u001b[0;34m(url, filename, reporthook, data)\u001b[0m\n\u001b[1;32m    245\u001b[0m     \u001b[0murl_type\u001b[0m\u001b[0;34m,\u001b[0m \u001b[0mpath\u001b[0m \u001b[0;34m=\u001b[0m \u001b[0msplittype\u001b[0m\u001b[0;34m(\u001b[0m\u001b[0murl\u001b[0m\u001b[0;34m)\u001b[0m\u001b[0;34m\u001b[0m\u001b[0;34m\u001b[0m\u001b[0m\n\u001b[1;32m    246\u001b[0m \u001b[0;34m\u001b[0m\u001b[0m\n\u001b[0;32m--> 247\u001b[0;31m     \u001b[0;32mwith\u001b[0m \u001b[0mcontextlib\u001b[0m\u001b[0;34m.\u001b[0m\u001b[0mclosing\u001b[0m\u001b[0;34m(\u001b[0m\u001b[0murlopen\u001b[0m\u001b[0;34m(\u001b[0m\u001b[0murl\u001b[0m\u001b[0;34m,\u001b[0m \u001b[0mdata\u001b[0m\u001b[0;34m)\u001b[0m\u001b[0;34m)\u001b[0m \u001b[0;32mas\u001b[0m \u001b[0mfp\u001b[0m\u001b[0;34m:\u001b[0m\u001b[0;34m\u001b[0m\u001b[0;34m\u001b[0m\u001b[0m\n\u001b[0m\u001b[1;32m    248\u001b[0m         \u001b[0mheaders\u001b[0m \u001b[0;34m=\u001b[0m \u001b[0mfp\u001b[0m\u001b[0;34m.\u001b[0m\u001b[0minfo\u001b[0m\u001b[0;34m(\u001b[0m\u001b[0;34m)\u001b[0m\u001b[0;34m\u001b[0m\u001b[0;34m\u001b[0m\u001b[0m\n\u001b[1;32m    249\u001b[0m \u001b[0;34m\u001b[0m\u001b[0m\n",
      "\u001b[0;32m~/anaconda3/envs/AIEnvTorch/lib/python3.7/urllib/request.py\u001b[0m in \u001b[0;36murlopen\u001b[0;34m(url, data, timeout, cafile, capath, cadefault, context)\u001b[0m\n\u001b[1;32m    220\u001b[0m     \u001b[0;32melse\u001b[0m\u001b[0;34m:\u001b[0m\u001b[0;34m\u001b[0m\u001b[0;34m\u001b[0m\u001b[0m\n\u001b[1;32m    221\u001b[0m         \u001b[0mopener\u001b[0m \u001b[0;34m=\u001b[0m \u001b[0m_opener\u001b[0m\u001b[0;34m\u001b[0m\u001b[0;34m\u001b[0m\u001b[0m\n\u001b[0;32m--> 222\u001b[0;31m     \u001b[0;32mreturn\u001b[0m \u001b[0mopener\u001b[0m\u001b[0;34m.\u001b[0m\u001b[0mopen\u001b[0m\u001b[0;34m(\u001b[0m\u001b[0murl\u001b[0m\u001b[0;34m,\u001b[0m \u001b[0mdata\u001b[0m\u001b[0;34m,\u001b[0m \u001b[0mtimeout\u001b[0m\u001b[0;34m)\u001b[0m\u001b[0;34m\u001b[0m\u001b[0;34m\u001b[0m\u001b[0m\n\u001b[0m\u001b[1;32m    223\u001b[0m \u001b[0;34m\u001b[0m\u001b[0m\n\u001b[1;32m    224\u001b[0m \u001b[0;32mdef\u001b[0m \u001b[0minstall_opener\u001b[0m\u001b[0;34m(\u001b[0m\u001b[0mopener\u001b[0m\u001b[0;34m)\u001b[0m\u001b[0;34m:\u001b[0m\u001b[0;34m\u001b[0m\u001b[0;34m\u001b[0m\u001b[0m\n",
      "\u001b[0;32m~/anaconda3/envs/AIEnvTorch/lib/python3.7/urllib/request.py\u001b[0m in \u001b[0;36mopen\u001b[0;34m(self, fullurl, data, timeout)\u001b[0m\n\u001b[1;32m    523\u001b[0m             \u001b[0mreq\u001b[0m \u001b[0;34m=\u001b[0m \u001b[0mmeth\u001b[0m\u001b[0;34m(\u001b[0m\u001b[0mreq\u001b[0m\u001b[0;34m)\u001b[0m\u001b[0;34m\u001b[0m\u001b[0;34m\u001b[0m\u001b[0m\n\u001b[1;32m    524\u001b[0m \u001b[0;34m\u001b[0m\u001b[0m\n\u001b[0;32m--> 525\u001b[0;31m         \u001b[0mresponse\u001b[0m \u001b[0;34m=\u001b[0m \u001b[0mself\u001b[0m\u001b[0;34m.\u001b[0m\u001b[0m_open\u001b[0m\u001b[0;34m(\u001b[0m\u001b[0mreq\u001b[0m\u001b[0;34m,\u001b[0m \u001b[0mdata\u001b[0m\u001b[0;34m)\u001b[0m\u001b[0;34m\u001b[0m\u001b[0;34m\u001b[0m\u001b[0m\n\u001b[0m\u001b[1;32m    526\u001b[0m \u001b[0;34m\u001b[0m\u001b[0m\n\u001b[1;32m    527\u001b[0m         \u001b[0;31m# post-process response\u001b[0m\u001b[0;34m\u001b[0m\u001b[0;34m\u001b[0m\u001b[0;34m\u001b[0m\u001b[0m\n",
      "\u001b[0;32m~/anaconda3/envs/AIEnvTorch/lib/python3.7/urllib/request.py\u001b[0m in \u001b[0;36m_open\u001b[0;34m(self, req, data)\u001b[0m\n\u001b[1;32m    541\u001b[0m         \u001b[0mprotocol\u001b[0m \u001b[0;34m=\u001b[0m \u001b[0mreq\u001b[0m\u001b[0;34m.\u001b[0m\u001b[0mtype\u001b[0m\u001b[0;34m\u001b[0m\u001b[0;34m\u001b[0m\u001b[0m\n\u001b[1;32m    542\u001b[0m         result = self._call_chain(self.handle_open, protocol, protocol +\n\u001b[0;32m--> 543\u001b[0;31m                                   '_open', req)\n\u001b[0m\u001b[1;32m    544\u001b[0m         \u001b[0;32mif\u001b[0m \u001b[0mresult\u001b[0m\u001b[0;34m:\u001b[0m\u001b[0;34m\u001b[0m\u001b[0;34m\u001b[0m\u001b[0m\n\u001b[1;32m    545\u001b[0m             \u001b[0;32mreturn\u001b[0m \u001b[0mresult\u001b[0m\u001b[0;34m\u001b[0m\u001b[0;34m\u001b[0m\u001b[0m\n",
      "\u001b[0;32m~/anaconda3/envs/AIEnvTorch/lib/python3.7/urllib/request.py\u001b[0m in \u001b[0;36m_call_chain\u001b[0;34m(self, chain, kind, meth_name, *args)\u001b[0m\n\u001b[1;32m    501\u001b[0m         \u001b[0;32mfor\u001b[0m \u001b[0mhandler\u001b[0m \u001b[0;32min\u001b[0m \u001b[0mhandlers\u001b[0m\u001b[0;34m:\u001b[0m\u001b[0;34m\u001b[0m\u001b[0;34m\u001b[0m\u001b[0m\n\u001b[1;32m    502\u001b[0m             \u001b[0mfunc\u001b[0m \u001b[0;34m=\u001b[0m \u001b[0mgetattr\u001b[0m\u001b[0;34m(\u001b[0m\u001b[0mhandler\u001b[0m\u001b[0;34m,\u001b[0m \u001b[0mmeth_name\u001b[0m\u001b[0;34m)\u001b[0m\u001b[0;34m\u001b[0m\u001b[0;34m\u001b[0m\u001b[0m\n\u001b[0;32m--> 503\u001b[0;31m             \u001b[0mresult\u001b[0m \u001b[0;34m=\u001b[0m \u001b[0mfunc\u001b[0m\u001b[0;34m(\u001b[0m\u001b[0;34m*\u001b[0m\u001b[0margs\u001b[0m\u001b[0;34m)\u001b[0m\u001b[0;34m\u001b[0m\u001b[0;34m\u001b[0m\u001b[0m\n\u001b[0m\u001b[1;32m    504\u001b[0m             \u001b[0;32mif\u001b[0m \u001b[0mresult\u001b[0m \u001b[0;32mis\u001b[0m \u001b[0;32mnot\u001b[0m \u001b[0;32mNone\u001b[0m\u001b[0;34m:\u001b[0m\u001b[0;34m\u001b[0m\u001b[0;34m\u001b[0m\u001b[0m\n\u001b[1;32m    505\u001b[0m                 \u001b[0;32mreturn\u001b[0m \u001b[0mresult\u001b[0m\u001b[0;34m\u001b[0m\u001b[0;34m\u001b[0m\u001b[0m\n",
      "\u001b[0;32m~/anaconda3/envs/AIEnvTorch/lib/python3.7/urllib/request.py\u001b[0m in \u001b[0;36mhttps_open\u001b[0;34m(self, req)\u001b[0m\n\u001b[1;32m   1360\u001b[0m         \u001b[0;32mdef\u001b[0m \u001b[0mhttps_open\u001b[0m\u001b[0;34m(\u001b[0m\u001b[0mself\u001b[0m\u001b[0;34m,\u001b[0m \u001b[0mreq\u001b[0m\u001b[0;34m)\u001b[0m\u001b[0;34m:\u001b[0m\u001b[0;34m\u001b[0m\u001b[0;34m\u001b[0m\u001b[0m\n\u001b[1;32m   1361\u001b[0m             return self.do_open(http.client.HTTPSConnection, req,\n\u001b[0;32m-> 1362\u001b[0;31m                 context=self._context, check_hostname=self._check_hostname)\n\u001b[0m\u001b[1;32m   1363\u001b[0m \u001b[0;34m\u001b[0m\u001b[0m\n\u001b[1;32m   1364\u001b[0m         \u001b[0mhttps_request\u001b[0m \u001b[0;34m=\u001b[0m \u001b[0mAbstractHTTPHandler\u001b[0m\u001b[0;34m.\u001b[0m\u001b[0mdo_request_\u001b[0m\u001b[0;34m\u001b[0m\u001b[0;34m\u001b[0m\u001b[0m\n",
      "\u001b[0;32m~/anaconda3/envs/AIEnvTorch/lib/python3.7/urllib/request.py\u001b[0m in \u001b[0;36mdo_open\u001b[0;34m(self, http_class, req, **http_conn_args)\u001b[0m\n\u001b[1;32m   1319\u001b[0m                           encode_chunked=req.has_header('Transfer-encoding'))\n\u001b[1;32m   1320\u001b[0m             \u001b[0;32mexcept\u001b[0m \u001b[0mOSError\u001b[0m \u001b[0;32mas\u001b[0m \u001b[0merr\u001b[0m\u001b[0;34m:\u001b[0m \u001b[0;31m# timeout error\u001b[0m\u001b[0;34m\u001b[0m\u001b[0;34m\u001b[0m\u001b[0m\n\u001b[0;32m-> 1321\u001b[0;31m                 \u001b[0;32mraise\u001b[0m \u001b[0mURLError\u001b[0m\u001b[0;34m(\u001b[0m\u001b[0merr\u001b[0m\u001b[0;34m)\u001b[0m\u001b[0;34m\u001b[0m\u001b[0;34m\u001b[0m\u001b[0m\n\u001b[0m\u001b[1;32m   1322\u001b[0m             \u001b[0mr\u001b[0m \u001b[0;34m=\u001b[0m \u001b[0mh\u001b[0m\u001b[0;34m.\u001b[0m\u001b[0mgetresponse\u001b[0m\u001b[0;34m(\u001b[0m\u001b[0;34m)\u001b[0m\u001b[0;34m\u001b[0m\u001b[0;34m\u001b[0m\u001b[0m\n\u001b[1;32m   1323\u001b[0m         \u001b[0;32mexcept\u001b[0m\u001b[0;34m:\u001b[0m\u001b[0;34m\u001b[0m\u001b[0;34m\u001b[0m\u001b[0m\n",
      "\u001b[0;31mURLError\u001b[0m: <urlopen error [Errno 61] Connection refused>"
     ],
     "ename": "URLError",
     "evalue": "<urlopen error [Errno 61] Connection refused>",
     "output_type": "error"
    }
   ],
   "source": [
    "dataset = get_dataset(\"solar_nips\", regenerate=False, shuffle=False)"
   ]
  },
  {
   "cell_type": "code",
   "execution_count": 6,
   "metadata": {
    "pycharm": {
     "is_executing": false
    }
   },
   "outputs": [
    {
     "traceback": [
      "\u001b[0;31m---------------------------------------------------------------------------\u001b[0m",
      "\u001b[0;31mNameError\u001b[0m                                 Traceback (most recent call last)",
      "\u001b[0;32m<ipython-input-6-2634b18162d1>\u001b[0m in \u001b[0;36m<module>\u001b[0;34m\u001b[0m\n\u001b[0;32m----> 1\u001b[0;31m \u001b[0mdataset\u001b[0m\u001b[0;34m.\u001b[0m\u001b[0mmetadata\u001b[0m\u001b[0;34m\u001b[0m\u001b[0;34m\u001b[0m\u001b[0m\n\u001b[0m",
      "\u001b[0;31mNameError\u001b[0m: name 'dataset' is not defined"
     ],
     "ename": "NameError",
     "evalue": "name 'dataset' is not defined",
     "output_type": "error"
    }
   ],
   "source": [
    "dataset.metadata"
   ]
  },
  {
   "cell_type": "code",
   "execution_count": 8,
   "metadata": {
    "pycharm": {
     "is_executing": false
    }
   },
   "outputs": [
    {
     "traceback": [
      "\u001b[0;31m---------------------------------------------------------------------------\u001b[0m",
      "\u001b[0;31mNameError\u001b[0m                                 Traceback (most recent call last)",
      "\u001b[0;32m<ipython-input-8-c164da0a02fa>\u001b[0m in \u001b[0;36m<module>\u001b[0;34m\u001b[0m\n\u001b[0;32m----> 1\u001b[0;31m \u001b[0mtrain_grouper\u001b[0m \u001b[0;34m=\u001b[0m \u001b[0mMultivariateGrouper\u001b[0m\u001b[0;34m(\u001b[0m\u001b[0mmax_target_dim\u001b[0m\u001b[0;34m=\u001b[0m\u001b[0mint\u001b[0m\u001b[0;34m(\u001b[0m\u001b[0mdataset\u001b[0m\u001b[0;34m.\u001b[0m\u001b[0mmetadata\u001b[0m\u001b[0;34m.\u001b[0m\u001b[0mfeat_static_cat\u001b[0m\u001b[0;34m[\u001b[0m\u001b[0;36m0\u001b[0m\u001b[0;34m]\u001b[0m\u001b[0;34m.\u001b[0m\u001b[0mcardinality\u001b[0m\u001b[0;34m)\u001b[0m\u001b[0;34m)\u001b[0m\u001b[0;34m\u001b[0m\u001b[0;34m\u001b[0m\u001b[0m\n\u001b[0m\u001b[1;32m      2\u001b[0m \u001b[0;34m\u001b[0m\u001b[0m\n\u001b[1;32m      3\u001b[0m test_grouper = MultivariateGrouper(num_test_dates=int(len(dataset.test)/len(dataset.train)), \n\u001b[1;32m      4\u001b[0m                                    max_target_dim=int(dataset.metadata.feat_static_cat[0].cardinality))\n",
      "\u001b[0;31mNameError\u001b[0m: name 'dataset' is not defined"
     ],
     "ename": "NameError",
     "evalue": "name 'dataset' is not defined",
     "output_type": "error"
    }
   ],
   "source": [
    "train_grouper = MultivariateGrouper(max_target_dim=int(dataset.metadata.feat_static_cat[0].cardinality))\n",
    "\n",
    "test_grouper = MultivariateGrouper(num_test_dates=int(len(dataset.test)/len(dataset.train)), \n",
    "                                   max_target_dim=int(dataset.metadata.feat_static_cat[0].cardinality))"
   ]
  },
  {
   "cell_type": "code",
   "execution_count": 9,
   "metadata": {
    "pycharm": {
     "is_executing": false
    }
   },
   "outputs": [
    {
     "traceback": [
      "\u001b[0;31m---------------------------------------------------------------------------\u001b[0m",
      "\u001b[0;31mNameError\u001b[0m                                 Traceback (most recent call last)",
      "\u001b[0;32m<ipython-input-9-70d9f60214cf>\u001b[0m in \u001b[0;36m<module>\u001b[0;34m\u001b[0m\n\u001b[0;32m----> 1\u001b[0;31m \u001b[0mdataset_train\u001b[0m \u001b[0;34m=\u001b[0m \u001b[0mtrain_grouper\u001b[0m\u001b[0;34m(\u001b[0m\u001b[0mdataset\u001b[0m\u001b[0;34m.\u001b[0m\u001b[0mtrain\u001b[0m\u001b[0;34m)\u001b[0m\u001b[0;34m\u001b[0m\u001b[0;34m\u001b[0m\u001b[0m\n\u001b[0m\u001b[1;32m      2\u001b[0m \u001b[0mdataset_test\u001b[0m \u001b[0;34m=\u001b[0m \u001b[0mtest_grouper\u001b[0m\u001b[0;34m(\u001b[0m\u001b[0mdataset\u001b[0m\u001b[0;34m.\u001b[0m\u001b[0mtest\u001b[0m\u001b[0;34m)\u001b[0m\u001b[0;34m\u001b[0m\u001b[0;34m\u001b[0m\u001b[0m\n",
      "\u001b[0;31mNameError\u001b[0m: name 'train_grouper' is not defined"
     ],
     "ename": "NameError",
     "evalue": "name 'train_grouper' is not defined",
     "output_type": "error"
    }
   ],
   "source": [
    "dataset_train = train_grouper(dataset.train)\n",
    "dataset_test = test_grouper(dataset.test)"
   ]
  },
  {
   "cell_type": "markdown",
   "metadata": {},
   "source": [
    "## Evaluator"
   ]
  },
  {
   "cell_type": "code",
   "execution_count": 10,
   "metadata": {
    "pycharm": {
     "is_executing": false
    }
   },
   "outputs": [],
   "source": [
    "evaluator = MultivariateEvaluator(quantiles=(np.arange(20)/20.0)[1:],\n",
    "                                  target_agg_funcs={'sum': np.sum})"
   ]
  },
  {
   "cell_type": "markdown",
   "metadata": {},
   "source": [
    "## `GRU-Real-NVP`"
   ]
  },
  {
   "cell_type": "code",
   "execution_count": 11,
   "metadata": {
    "pycharm": {
     "is_executing": false
    }
   },
   "outputs": [
    {
     "traceback": [
      "\u001b[0;31m---------------------------------------------------------------------------\u001b[0m",
      "\u001b[0;31mNameError\u001b[0m                                 Traceback (most recent call last)",
      "\u001b[0;32m<ipython-input-11-06da05994ffc>\u001b[0m in \u001b[0;36m<module>\u001b[0;34m\u001b[0m\n\u001b[1;32m      1\u001b[0m estimator = TempFlowEstimator(\n\u001b[0;32m----> 2\u001b[0;31m     \u001b[0mtarget_dim\u001b[0m\u001b[0;34m=\u001b[0m\u001b[0mint\u001b[0m\u001b[0;34m(\u001b[0m\u001b[0mdataset\u001b[0m\u001b[0;34m.\u001b[0m\u001b[0mmetadata\u001b[0m\u001b[0;34m.\u001b[0m\u001b[0mfeat_static_cat\u001b[0m\u001b[0;34m[\u001b[0m\u001b[0;36m0\u001b[0m\u001b[0;34m]\u001b[0m\u001b[0;34m.\u001b[0m\u001b[0mcardinality\u001b[0m\u001b[0;34m)\u001b[0m\u001b[0;34m,\u001b[0m\u001b[0;34m\u001b[0m\u001b[0;34m\u001b[0m\u001b[0m\n\u001b[0m\u001b[1;32m      3\u001b[0m     \u001b[0mprediction_length\u001b[0m\u001b[0;34m=\u001b[0m\u001b[0mdataset\u001b[0m\u001b[0;34m.\u001b[0m\u001b[0mmetadata\u001b[0m\u001b[0;34m.\u001b[0m\u001b[0mprediction_length\u001b[0m\u001b[0;34m,\u001b[0m\u001b[0;34m\u001b[0m\u001b[0;34m\u001b[0m\u001b[0m\n\u001b[1;32m      4\u001b[0m     \u001b[0mcell_type\u001b[0m\u001b[0;34m=\u001b[0m\u001b[0;34m'GRU'\u001b[0m\u001b[0;34m,\u001b[0m\u001b[0;34m\u001b[0m\u001b[0;34m\u001b[0m\u001b[0m\n\u001b[1;32m      5\u001b[0m     \u001b[0minput_size\u001b[0m\u001b[0;34m=\u001b[0m\u001b[0;36m552\u001b[0m\u001b[0;34m,\u001b[0m\u001b[0;34m\u001b[0m\u001b[0;34m\u001b[0m\u001b[0m\n",
      "\u001b[0;31mNameError\u001b[0m: name 'dataset' is not defined"
     ],
     "ename": "NameError",
     "evalue": "name 'dataset' is not defined",
     "output_type": "error"
    }
   ],
   "source": [
    "estimator = TempFlowEstimator(\n",
    "    target_dim=int(dataset.metadata.feat_static_cat[0].cardinality),\n",
    "    prediction_length=dataset.metadata.prediction_length,\n",
    "    cell_type='GRU',\n",
    "    input_size=552,\n",
    "    freq=dataset.metadata.freq,\n",
    "    scaling=True,\n",
    "    dequantize=True,\n",
    "    n_blocks=4,\n",
    "    trainer=Trainer(device=device,\n",
    "                    epochs=45,\n",
    "                    learning_rate=1e-3,\n",
    "                    num_batches_per_epoch=100,\n",
    "                    batch_size=64)\n",
    ")"
   ]
  },
  {
   "cell_type": "code",
   "execution_count": 12,
   "metadata": {
    "pycharm": {
     "is_executing": false
    }
   },
   "outputs": [
    {
     "traceback": [
      "\u001b[0;31m---------------------------------------------------------------------------\u001b[0m",
      "\u001b[0;31mNameError\u001b[0m                                 Traceback (most recent call last)",
      "\u001b[0;32m<ipython-input-12-8c6cf609773e>\u001b[0m in \u001b[0;36m<module>\u001b[0;34m\u001b[0m\n\u001b[0;32m----> 1\u001b[0;31m \u001b[0mpredictor\u001b[0m \u001b[0;34m=\u001b[0m \u001b[0mestimator\u001b[0m\u001b[0;34m.\u001b[0m\u001b[0mtrain\u001b[0m\u001b[0;34m(\u001b[0m\u001b[0mdataset_train\u001b[0m\u001b[0;34m)\u001b[0m\u001b[0;34m\u001b[0m\u001b[0;34m\u001b[0m\u001b[0m\n\u001b[0m\u001b[1;32m      2\u001b[0m forecast_it, ts_it = make_evaluation_predictions(dataset=dataset_test,\n\u001b[1;32m      3\u001b[0m                                              \u001b[0mpredictor\u001b[0m\u001b[0;34m=\u001b[0m\u001b[0mpredictor\u001b[0m\u001b[0;34m,\u001b[0m\u001b[0;34m\u001b[0m\u001b[0;34m\u001b[0m\u001b[0m\n\u001b[1;32m      4\u001b[0m                                              num_samples=100)\n\u001b[1;32m      5\u001b[0m \u001b[0mforecasts\u001b[0m \u001b[0;34m=\u001b[0m \u001b[0mlist\u001b[0m\u001b[0;34m(\u001b[0m\u001b[0mforecast_it\u001b[0m\u001b[0;34m)\u001b[0m\u001b[0;34m\u001b[0m\u001b[0;34m\u001b[0m\u001b[0m\n",
      "\u001b[0;31mNameError\u001b[0m: name 'estimator' is not defined"
     ],
     "ename": "NameError",
     "evalue": "name 'estimator' is not defined",
     "output_type": "error"
    }
   ],
   "source": [
    "predictor = estimator.train(dataset_train)\n",
    "forecast_it, ts_it = make_evaluation_predictions(dataset=dataset_test,\n",
    "                                             predictor=predictor,\n",
    "                                             num_samples=100)\n",
    "forecasts = list(forecast_it)\n",
    "targets = list(ts_it)\n",
    "\n",
    "agg_metric, _ = evaluator(targets, forecasts, num_series=len(dataset_test))"
   ]
  },
  {
   "cell_type": "markdown",
   "metadata": {},
   "source": [
    "### Metrics"
   ]
  },
  {
   "cell_type": "code",
   "execution_count": 13,
   "metadata": {
    "pycharm": {
     "is_executing": false
    }
   },
   "outputs": [
    {
     "traceback": [
      "\u001b[0;31m---------------------------------------------------------------------------\u001b[0m",
      "\u001b[0;31mNameError\u001b[0m                                 Traceback (most recent call last)",
      "\u001b[0;32m<ipython-input-13-b8b86cd7e5cc>\u001b[0m in \u001b[0;36m<module>\u001b[0;34m\u001b[0m\n\u001b[0;32m----> 1\u001b[0;31m \u001b[0mprint\u001b[0m\u001b[0;34m(\u001b[0m\u001b[0;34m\"CRPS: {}\"\u001b[0m\u001b[0;34m.\u001b[0m\u001b[0mformat\u001b[0m\u001b[0;34m(\u001b[0m\u001b[0magg_metric\u001b[0m\u001b[0;34m[\u001b[0m\u001b[0;34m'mean_wQuantileLoss'\u001b[0m\u001b[0;34m]\u001b[0m\u001b[0;34m)\u001b[0m\u001b[0;34m)\u001b[0m\u001b[0;34m\u001b[0m\u001b[0;34m\u001b[0m\u001b[0m\n\u001b[0m\u001b[1;32m      2\u001b[0m \u001b[0mprint\u001b[0m\u001b[0;34m(\u001b[0m\u001b[0;34m\"ND: {}\"\u001b[0m\u001b[0;34m.\u001b[0m\u001b[0mformat\u001b[0m\u001b[0;34m(\u001b[0m\u001b[0magg_metric\u001b[0m\u001b[0;34m[\u001b[0m\u001b[0;34m'ND'\u001b[0m\u001b[0;34m]\u001b[0m\u001b[0;34m)\u001b[0m\u001b[0;34m)\u001b[0m\u001b[0;34m\u001b[0m\u001b[0;34m\u001b[0m\u001b[0m\n\u001b[1;32m      3\u001b[0m \u001b[0mprint\u001b[0m\u001b[0;34m(\u001b[0m\u001b[0;34m\"NRMSE: {}\"\u001b[0m\u001b[0;34m.\u001b[0m\u001b[0mformat\u001b[0m\u001b[0;34m(\u001b[0m\u001b[0magg_metric\u001b[0m\u001b[0;34m[\u001b[0m\u001b[0;34m'NRMSE'\u001b[0m\u001b[0;34m]\u001b[0m\u001b[0;34m)\u001b[0m\u001b[0;34m)\u001b[0m\u001b[0;34m\u001b[0m\u001b[0;34m\u001b[0m\u001b[0m\n\u001b[1;32m      4\u001b[0m \u001b[0mprint\u001b[0m\u001b[0;34m(\u001b[0m\u001b[0;34m\"MSE: {}\"\u001b[0m\u001b[0;34m.\u001b[0m\u001b[0mformat\u001b[0m\u001b[0;34m(\u001b[0m\u001b[0magg_metric\u001b[0m\u001b[0;34m[\u001b[0m\u001b[0;34m'MSE'\u001b[0m\u001b[0;34m]\u001b[0m\u001b[0;34m)\u001b[0m\u001b[0;34m)\u001b[0m\u001b[0;34m\u001b[0m\u001b[0;34m\u001b[0m\u001b[0m\n",
      "\u001b[0;31mNameError\u001b[0m: name 'agg_metric' is not defined"
     ],
     "ename": "NameError",
     "evalue": "name 'agg_metric' is not defined",
     "output_type": "error"
    }
   ],
   "source": [
    "print(\"CRPS: {}\".format(agg_metric['mean_wQuantileLoss']))\n",
    "print(\"ND: {}\".format(agg_metric['ND']))\n",
    "print(\"NRMSE: {}\".format(agg_metric['NRMSE']))\n",
    "print(\"MSE: {}\".format(agg_metric['MSE']))"
   ]
  },
  {
   "cell_type": "code",
   "execution_count": 14,
   "metadata": {
    "pycharm": {
     "is_executing": false
    }
   },
   "outputs": [
    {
     "traceback": [
      "\u001b[0;31m---------------------------------------------------------------------------\u001b[0m",
      "\u001b[0;31mNameError\u001b[0m                                 Traceback (most recent call last)",
      "\u001b[0;32m<ipython-input-14-c2f264cd5d99>\u001b[0m in \u001b[0;36m<module>\u001b[0;34m\u001b[0m\n\u001b[0;32m----> 1\u001b[0;31m \u001b[0mprint\u001b[0m\u001b[0;34m(\u001b[0m\u001b[0;34m\"CRPS-Sum: {}\"\u001b[0m\u001b[0;34m.\u001b[0m\u001b[0mformat\u001b[0m\u001b[0;34m(\u001b[0m\u001b[0magg_metric\u001b[0m\u001b[0;34m[\u001b[0m\u001b[0;34m'm_sum_mean_wQuantileLoss'\u001b[0m\u001b[0;34m]\u001b[0m\u001b[0;34m)\u001b[0m\u001b[0;34m)\u001b[0m\u001b[0;34m\u001b[0m\u001b[0;34m\u001b[0m\u001b[0m\n\u001b[0m\u001b[1;32m      2\u001b[0m \u001b[0mprint\u001b[0m\u001b[0;34m(\u001b[0m\u001b[0;34m\"ND-Sum: {}\"\u001b[0m\u001b[0;34m.\u001b[0m\u001b[0mformat\u001b[0m\u001b[0;34m(\u001b[0m\u001b[0magg_metric\u001b[0m\u001b[0;34m[\u001b[0m\u001b[0;34m'm_sum_ND'\u001b[0m\u001b[0;34m]\u001b[0m\u001b[0;34m)\u001b[0m\u001b[0;34m)\u001b[0m\u001b[0;34m\u001b[0m\u001b[0;34m\u001b[0m\u001b[0m\n\u001b[1;32m      3\u001b[0m \u001b[0mprint\u001b[0m\u001b[0;34m(\u001b[0m\u001b[0;34m\"NRMSE-Sum: {}\"\u001b[0m\u001b[0;34m.\u001b[0m\u001b[0mformat\u001b[0m\u001b[0;34m(\u001b[0m\u001b[0magg_metric\u001b[0m\u001b[0;34m[\u001b[0m\u001b[0;34m'm_sum_NRMSE'\u001b[0m\u001b[0;34m]\u001b[0m\u001b[0;34m)\u001b[0m\u001b[0;34m)\u001b[0m\u001b[0;34m\u001b[0m\u001b[0;34m\u001b[0m\u001b[0m\n\u001b[1;32m      4\u001b[0m \u001b[0mprint\u001b[0m\u001b[0;34m(\u001b[0m\u001b[0;34m\"MSE-Sum: {}\"\u001b[0m\u001b[0;34m.\u001b[0m\u001b[0mformat\u001b[0m\u001b[0;34m(\u001b[0m\u001b[0magg_metric\u001b[0m\u001b[0;34m[\u001b[0m\u001b[0;34m'm_sum_MSE'\u001b[0m\u001b[0;34m]\u001b[0m\u001b[0;34m)\u001b[0m\u001b[0;34m)\u001b[0m\u001b[0;34m\u001b[0m\u001b[0;34m\u001b[0m\u001b[0m\n",
      "\u001b[0;31mNameError\u001b[0m: name 'agg_metric' is not defined"
     ],
     "ename": "NameError",
     "evalue": "name 'agg_metric' is not defined",
     "output_type": "error"
    }
   ],
   "source": [
    "print(\"CRPS-Sum: {}\".format(agg_metric['m_sum_mean_wQuantileLoss']))\n",
    "print(\"ND-Sum: {}\".format(agg_metric['m_sum_ND']))\n",
    "print(\"NRMSE-Sum: {}\".format(agg_metric['m_sum_NRMSE']))\n",
    "print(\"MSE-Sum: {}\".format(agg_metric['m_sum_MSE']))"
   ]
  },
  {
   "cell_type": "markdown",
   "metadata": {},
   "source": [
    "## `GRU-MAF`"
   ]
  },
  {
   "cell_type": "code",
   "execution_count": 17,
   "metadata": {},
   "outputs": [],
   "source": [
    "estimator = TempFlowEstimator(\n",
    "    target_dim=int(dataset.metadata.feat_static_cat[0].cardinality),\n",
    "    prediction_length=dataset.metadata.prediction_length,\n",
    "    cell_type='GRU',\n",
    "    input_size=552,\n",
    "    freq=dataset.metadata.freq,\n",
    "    scaling=True,\n",
    "    dequantize=True,\n",
    "    flow_type='MAF',\n",
    "    trainer=Trainer(device=device,\n",
    "                    epochs=25,\n",
    "                    learning_rate=1e-3,\n",
    "                    num_batches_per_epoch=100,\n",
    "                    batch_size=64)\n",
    ")"
   ]
  },
  {
   "cell_type": "code",
   "execution_count": 18,
   "metadata": {},
   "outputs": [
    {
     "name": "stderr",
     "output_type": "stream",
     "text": [
      "98it [00:10,  9.05it/s, avg_epoch_loss=-7.36, epoch=0]\n",
      "99it [00:10,  9.19it/s, avg_epoch_loss=-136, epoch=1]\n",
      "99it [00:10,  9.12it/s, avg_epoch_loss=-164, epoch=2]\n",
      "98it [00:10,  8.91it/s, avg_epoch_loss=-179, epoch=3]\n",
      "98it [00:10,  9.09it/s, avg_epoch_loss=-188, epoch=4]\n",
      "99it [00:10,  9.05it/s, avg_epoch_loss=-194, epoch=5]\n",
      "98it [00:10,  9.04it/s, avg_epoch_loss=-198, epoch=6]\n",
      "98it [00:10,  8.97it/s, avg_epoch_loss=-201, epoch=7]\n",
      "97it [00:10,  8.90it/s, avg_epoch_loss=-204, epoch=8]\n",
      "99it [00:10,  9.07it/s, avg_epoch_loss=-206, epoch=9]\n",
      "99it [00:10,  9.09it/s, avg_epoch_loss=-207, epoch=10]\n",
      "98it [00:11,  8.90it/s, avg_epoch_loss=-209, epoch=11]\n",
      "99it [00:10,  9.02it/s, avg_epoch_loss=-210, epoch=12]\n",
      "98it [00:10,  8.95it/s, avg_epoch_loss=-211, epoch=13]\n",
      "99it [00:10,  9.21it/s, avg_epoch_loss=-212, epoch=14]\n",
      "98it [00:10,  9.00it/s, avg_epoch_loss=-213, epoch=15]\n",
      "99it [00:10,  9.21it/s, avg_epoch_loss=-214, epoch=16]\n",
      "98it [00:10,  8.95it/s, avg_epoch_loss=-215, epoch=17]\n",
      "98it [00:11,  8.88it/s, avg_epoch_loss=-216, epoch=18]\n",
      "99it [00:10,  9.08it/s, avg_epoch_loss=-216, epoch=19]\n",
      "98it [00:10,  8.96it/s, avg_epoch_loss=-217, epoch=20]\n",
      "98it [00:10,  8.98it/s, avg_epoch_loss=-218, epoch=21]\n",
      "97it [00:10,  8.88it/s, avg_epoch_loss=-218, epoch=22]\n",
      "97it [00:10,  8.83it/s, avg_epoch_loss=-219, epoch=23]\n",
      "98it [00:10,  8.97it/s, avg_epoch_loss=-219, epoch=24]\n",
      "  0%|          | 0/137 [00:00<?, ?it/s]\n",
      "Running evaluation: 7it [00:00, 79.30it/s]\n",
      "  1%|          | 1/137 [00:00<00:14,  9.67it/s]\n",
      "Running evaluation: 7it [00:00, 80.37it/s]\n",
      "  1%|▏         | 2/137 [00:00<00:13,  9.69it/s]\n",
      "Running evaluation: 7it [00:00, 80.99it/s]\n",
      "  2%|▏         | 3/137 [00:00<00:13,  9.72it/s]\n",
      "Running evaluation: 7it [00:00, 80.16it/s]\n",
      "  3%|▎         | 4/137 [00:00<00:13,  9.74it/s]\n",
      "Running evaluation: 7it [00:00, 81.87it/s]\n",
      "  4%|▎         | 5/137 [00:00<00:15,  8.38it/s]\n",
      "Running evaluation: 7it [00:00, 80.00it/s]\n",
      "  4%|▍         | 6/137 [00:00<00:15,  8.73it/s]\n",
      "Running evaluation: 7it [00:00, 80.20it/s]\n",
      "  5%|▌         | 7/137 [00:00<00:14,  9.02it/s]\n",
      "Running evaluation: 7it [00:00, 81.10it/s]\n",
      "  6%|▌         | 8/137 [00:00<00:13,  9.26it/s]\n",
      "Running evaluation: 7it [00:00, 78.81it/s]\n",
      "  7%|▋         | 9/137 [00:00<00:13,  9.37it/s]\n",
      "Running evaluation: 7it [00:00, 80.94it/s]\n",
      "  7%|▋         | 10/137 [00:01<00:13,  9.51it/s]\n",
      "Running evaluation: 7it [00:00, 80.86it/s]\n",
      "  8%|▊         | 11/137 [00:01<00:13,  9.61it/s]\n",
      "Running evaluation: 7it [00:00, 79.54it/s]\n",
      "  9%|▉         | 12/137 [00:01<00:12,  9.65it/s]\n",
      "Running evaluation: 7it [00:00, 80.68it/s]\n",
      "  9%|▉         | 13/137 [00:01<00:12,  9.70it/s]\n",
      "Running evaluation: 7it [00:00, 80.79it/s]\n",
      " 10%|█         | 14/137 [00:01<00:12,  9.67it/s]\n",
      "Running evaluation: 7it [00:00, 79.82it/s]\n",
      " 11%|█         | 15/137 [00:01<00:12,  9.69it/s]\n",
      "Running evaluation: 7it [00:00, 80.53it/s]\n",
      " 12%|█▏        | 16/137 [00:01<00:12,  9.73it/s]\n",
      "Running evaluation: 7it [00:00, 76.42it/s]\n",
      " 12%|█▏        | 17/137 [00:01<00:12,  9.59it/s]\n",
      "Running evaluation: 7it [00:00, 79.49it/s]\n",
      " 13%|█▎        | 18/137 [00:01<00:12,  9.61it/s]\n",
      "Running evaluation: 7it [00:00, 80.33it/s]\n",
      " 14%|█▍        | 19/137 [00:02<00:12,  9.66it/s]\n",
      "Running evaluation: 7it [00:00, 81.06it/s]\n",
      " 15%|█▍        | 20/137 [00:02<00:12,  9.70it/s]\n",
      "Running evaluation: 7it [00:00, 80.93it/s]\n",
      " 15%|█▌        | 21/137 [00:02<00:11,  9.74it/s]\n",
      "Running evaluation: 7it [00:00, 81.20it/s]\n",
      " 16%|█▌        | 22/137 [00:02<00:11,  9.78it/s]\n",
      "Running evaluation: 7it [00:00, 80.83it/s]\n",
      " 17%|█▋        | 23/137 [00:02<00:11,  9.79it/s]\n",
      "Running evaluation: 7it [00:00, 81.33it/s]\n",
      " 18%|█▊        | 24/137 [00:02<00:11,  9.82it/s]\n",
      "Running evaluation: 7it [00:00, 80.91it/s]\n",
      " 18%|█▊        | 25/137 [00:02<00:11,  9.83it/s]\n",
      "Running evaluation: 7it [00:00, 81.40it/s]\n",
      " 19%|█▉        | 26/137 [00:02<00:11,  9.85it/s]\n",
      "Running evaluation: 7it [00:00, 81.20it/s]\n",
      " 20%|█▉        | 27/137 [00:02<00:11,  9.86it/s]\n",
      "Running evaluation: 7it [00:00, 82.38it/s]\n",
      " 20%|██        | 28/137 [00:02<00:11,  9.90it/s]\n",
      "Running evaluation: 7it [00:00, 82.08it/s]\n",
      " 21%|██        | 29/137 [00:03<00:10,  9.92it/s]\n",
      "Running evaluation: 7it [00:00, 81.48it/s]\n",
      " 22%|██▏       | 30/137 [00:03<00:10,  9.91it/s]\n",
      "Running evaluation: 7it [00:00, 80.91it/s]\n",
      " 23%|██▎       | 31/137 [00:03<00:10,  9.89it/s]\n",
      "Running evaluation: 7it [00:00, 81.74it/s]\n",
      " 23%|██▎       | 32/137 [00:03<00:10,  9.89it/s]\n",
      "Running evaluation: 7it [00:00, 82.56it/s]\n",
      " 24%|██▍       | 33/137 [00:03<00:10,  9.91it/s]\n",
      "Running evaluation: 7it [00:00, 82.94it/s]\n",
      "\n",
      "Running evaluation: 7it [00:00, 81.87it/s]\n",
      " 26%|██▌       | 35/137 [00:03<00:10,  9.93it/s]\n",
      "Running evaluation: 7it [00:00, 82.36it/s]\n",
      "\n",
      "Running evaluation: 7it [00:00, 82.48it/s]\n",
      " 27%|██▋       | 37/137 [00:03<00:10,  9.96it/s]\n",
      "Running evaluation: 7it [00:00, 81.42it/s]\n",
      " 28%|██▊       | 38/137 [00:03<00:09,  9.93it/s]\n",
      "Running evaluation: 7it [00:00, 81.16it/s]\n",
      " 28%|██▊       | 39/137 [00:04<00:09,  9.91it/s]\n",
      "Running evaluation: 7it [00:00, 80.18it/s]\n",
      " 29%|██▉       | 40/137 [00:04<00:09,  9.86it/s]\n",
      "Running evaluation: 7it [00:00, 79.44it/s]\n",
      " 30%|██▉       | 41/137 [00:04<00:09,  9.77it/s]\n",
      "Running evaluation: 7it [00:00, 78.49it/s]\n",
      " 31%|███       | 42/137 [00:04<00:09,  9.71it/s]\n",
      "Running evaluation: 7it [00:00, 81.14it/s]\n",
      " 31%|███▏      | 43/137 [00:04<00:09,  9.76it/s]\n",
      "Running evaluation: 7it [00:00, 80.89it/s]\n",
      " 32%|███▏      | 44/137 [00:04<00:09,  9.77it/s]\n",
      "Running evaluation: 7it [00:00, 79.56it/s]\n",
      " 33%|███▎      | 45/137 [00:04<00:09,  9.75it/s]\n",
      "Running evaluation: 7it [00:00, 80.37it/s]\n",
      " 34%|███▎      | 46/137 [00:04<00:09,  9.77it/s]\n",
      "Running evaluation: 7it [00:00, 81.06it/s]\n",
      " 34%|███▍      | 47/137 [00:04<00:09,  9.80it/s]\n",
      "Running evaluation: 7it [00:00, 81.00it/s]\n",
      " 35%|███▌      | 48/137 [00:04<00:09,  9.82it/s]\n",
      "Running evaluation: 7it [00:00, 79.59it/s]\n",
      " 36%|███▌      | 49/137 [00:05<00:08,  9.78it/s]\n",
      "Running evaluation: 7it [00:00, 80.16it/s]\n",
      " 36%|███▋      | 50/137 [00:05<00:08,  9.78it/s]\n",
      "Running evaluation: 7it [00:00, 81.13it/s]\n",
      " 37%|███▋      | 51/137 [00:05<00:08,  9.81it/s]\n",
      "Running evaluation: 7it [00:00, 80.09it/s]\n",
      " 38%|███▊      | 52/137 [00:05<00:08,  9.80it/s]\n",
      "Running evaluation: 7it [00:00, 81.05it/s]\n",
      " 39%|███▊      | 53/137 [00:05<00:08,  9.82it/s]\n",
      "Running evaluation: 7it [00:00, 79.80it/s]\n",
      " 39%|███▉      | 54/137 [00:05<00:08,  9.80it/s]\n",
      "Running evaluation: 7it [00:00, 79.99it/s]\n",
      " 40%|████      | 55/137 [00:05<00:08,  9.79it/s]\n",
      "Running evaluation: 7it [00:00, 80.74it/s]\n",
      " 41%|████      | 56/137 [00:05<00:08,  9.80it/s]\n",
      "Running evaluation: 7it [00:00, 80.38it/s]\n",
      " 42%|████▏     | 57/137 [00:05<00:08,  9.80it/s]\n",
      "Running evaluation: 7it [00:00, 80.81it/s]\n",
      " 42%|████▏     | 58/137 [00:05<00:08,  9.81it/s]\n",
      "Running evaluation: 7it [00:00, 80.07it/s]\n",
      " 43%|████▎     | 59/137 [00:06<00:07,  9.80it/s]\n",
      "Running evaluation: 7it [00:00, 79.89it/s]\n",
      " 44%|████▍     | 60/137 [00:06<00:07,  9.79it/s]\n",
      "Running evaluation: 7it [00:00, 80.78it/s]\n",
      " 45%|████▍     | 61/137 [00:06<00:07,  9.81it/s]\n",
      "Running evaluation: 7it [00:00, 80.28it/s]\n",
      " 45%|████▌     | 62/137 [00:06<00:07,  9.80it/s]\n",
      "Running evaluation: 7it [00:00, 80.50it/s]\n",
      " 46%|████▌     | 63/137 [00:06<00:07,  9.81it/s]\n",
      "Running evaluation: 7it [00:00, 80.07it/s]\n",
      " 47%|████▋     | 64/137 [00:06<00:07,  9.76it/s]\n",
      "Running evaluation: 7it [00:00, 77.93it/s]\n",
      " 47%|████▋     | 65/137 [00:06<00:07,  9.67it/s]\n",
      "Running evaluation: 7it [00:00, 80.83it/s]\n",
      " 48%|████▊     | 66/137 [00:06<00:07,  9.72it/s]\n",
      "Running evaluation: 7it [00:00, 81.68it/s]\n",
      " 49%|████▉     | 67/137 [00:06<00:07,  9.79it/s]\n",
      "Running evaluation: 7it [00:00, 81.13it/s]\n",
      " 50%|████▉     | 68/137 [00:06<00:07,  9.81it/s]\n",
      "Running evaluation: 7it [00:00, 81.32it/s]\n",
      " 50%|█████     | 69/137 [00:07<00:06,  9.84it/s]\n",
      "Running evaluation: 7it [00:00, 80.92it/s]\n",
      " 51%|█████     | 70/137 [00:07<00:06,  9.83it/s]\n",
      "Running evaluation: 7it [00:00, 81.30it/s]\n",
      " 52%|█████▏    | 71/137 [00:07<00:06,  9.85it/s]\n",
      "Running evaluation: 7it [00:00, 82.09it/s]\n",
      " 53%|█████▎    | 72/137 [00:07<00:06,  9.89it/s]\n",
      "Running evaluation: 7it [00:00, 81.77it/s]\n",
      " 53%|█████▎    | 73/137 [00:07<00:06,  9.87it/s]\n",
      "Running evaluation: 7it [00:00, 81.08it/s]\n",
      " 54%|█████▍    | 74/137 [00:07<00:06,  9.87it/s]\n",
      "Running evaluation: 7it [00:00, 81.81it/s]\n"
     ]
    },
    {
     "name": "stderr",
     "output_type": "stream",
     "text": [
      " 55%|█████▍    | 75/137 [00:07<00:06,  9.89it/s]\n",
      "Running evaluation: 7it [00:00, 80.63it/s]\n",
      " 55%|█████▌    | 76/137 [00:07<00:06,  9.87it/s]\n",
      "Running evaluation: 7it [00:00, 80.91it/s]\n",
      " 56%|█████▌    | 77/137 [00:07<00:06,  9.87it/s]\n",
      "Running evaluation: 7it [00:00, 80.83it/s]\n",
      " 57%|█████▋    | 78/137 [00:08<00:05,  9.86it/s]\n",
      "Running evaluation: 7it [00:00, 80.90it/s]\n",
      " 58%|█████▊    | 79/137 [00:08<00:05,  9.86it/s]\n",
      "Running evaluation: 7it [00:00, 80.50it/s]\n",
      " 58%|█████▊    | 80/137 [00:08<00:05,  9.84it/s]\n",
      "Running evaluation: 7it [00:00, 80.69it/s]\n",
      " 59%|█████▉    | 81/137 [00:08<00:05,  9.84it/s]\n",
      "Running evaluation: 7it [00:00, 78.67it/s]\n",
      " 60%|█████▉    | 82/137 [00:08<00:05,  9.74it/s]\n",
      "Running evaluation: 0it [00:00, ?it/s]\u001b[A\n",
      "Running evaluation: 7it [00:00, 57.62it/s]\u001b[A\n",
      " 61%|██████    | 83/137 [00:08<00:06,  8.73it/s]\n",
      "Running evaluation: 7it [00:00, 79.47it/s]\n",
      " 61%|██████▏   | 84/137 [00:08<00:05,  8.97it/s]\n",
      "Running evaluation: 7it [00:00, 77.83it/s]\n",
      " 62%|██████▏   | 85/137 [00:08<00:05,  9.12it/s]\n",
      "Running evaluation: 7it [00:00, 79.50it/s]\n",
      " 63%|██████▎   | 86/137 [00:08<00:05,  9.26it/s]\n",
      "Running evaluation: 7it [00:00, 78.65it/s]\n",
      " 64%|██████▎   | 87/137 [00:08<00:05,  9.33it/s]\n",
      "Running evaluation: 7it [00:00, 77.89it/s]\n",
      " 64%|██████▍   | 88/137 [00:09<00:05,  9.37it/s]\n",
      "Running evaluation: 7it [00:00, 77.88it/s]\n",
      " 65%|██████▍   | 89/137 [00:09<00:05,  9.39it/s]\n",
      "Running evaluation: 7it [00:00, 78.58it/s]\n",
      " 66%|██████▌   | 90/137 [00:09<00:04,  9.43it/s]\n",
      "Running evaluation: 7it [00:00, 78.98it/s]\n",
      " 66%|██████▋   | 91/137 [00:09<00:04,  9.45it/s]\n",
      "Running evaluation: 7it [00:00, 79.47it/s]\n",
      " 67%|██████▋   | 92/137 [00:09<00:04,  9.47it/s]\n",
      "Running evaluation: 7it [00:00, 75.97it/s]\n",
      " 68%|██████▊   | 93/137 [00:09<00:04,  9.37it/s]\n",
      "Running evaluation: 7it [00:00, 81.28it/s]\n",
      " 69%|██████▊   | 94/137 [00:09<00:04,  9.47it/s]\n",
      "Running evaluation: 7it [00:00, 81.42it/s]\n",
      " 69%|██████▉   | 95/137 [00:09<00:04,  9.57it/s]\n",
      "Running evaluation: 7it [00:00, 78.29it/s]\n",
      " 70%|███████   | 96/137 [00:09<00:04,  9.51it/s]\n",
      "Running evaluation: 7it [00:00, 78.14it/s]\n",
      " 71%|███████   | 97/137 [00:10<00:04,  9.49it/s]\n",
      "Running evaluation: 7it [00:00, 79.59it/s]\n",
      " 72%|███████▏  | 98/137 [00:10<00:04,  9.50it/s]\n",
      "Running evaluation: 7it [00:00, 81.20it/s]\n",
      " 72%|███████▏  | 99/137 [00:10<00:03,  9.56it/s]\n",
      "Running evaluation: 7it [00:00, 81.43it/s]\n",
      " 73%|███████▎  | 100/137 [00:10<00:03,  9.66it/s]\n",
      "Running evaluation: 7it [00:00, 82.14it/s]\n",
      " 74%|███████▎  | 101/137 [00:10<00:03,  9.76it/s]\n",
      "Running evaluation: 7it [00:00, 80.95it/s]\n",
      " 74%|███████▍  | 102/137 [00:10<00:03,  9.79it/s]\n",
      "Running evaluation: 7it [00:00, 75.02it/s]\n",
      " 75%|███████▌  | 103/137 [00:10<00:03,  9.58it/s]\n",
      "Running evaluation: 7it [00:00, 80.46it/s]\n",
      " 76%|███████▌  | 104/137 [00:10<00:03,  9.63it/s]\n",
      "Running evaluation: 7it [00:00, 81.08it/s]\n",
      " 77%|███████▋  | 105/137 [00:10<00:03,  9.70it/s]\n",
      "Running evaluation: 7it [00:00, 82.26it/s]\n",
      " 77%|███████▋  | 106/137 [00:10<00:03,  9.77it/s]\n",
      "Running evaluation: 7it [00:00, 81.13it/s]\n",
      " 78%|███████▊  | 107/137 [00:11<00:03,  9.80it/s]\n",
      "Running evaluation: 7it [00:00, 81.79it/s]\n",
      " 79%|███████▉  | 108/137 [00:11<00:02,  9.81it/s]\n",
      "Running evaluation: 7it [00:00, 81.81it/s]\n",
      " 80%|███████▉  | 109/137 [00:11<00:02,  9.83it/s]\n",
      "Running evaluation: 7it [00:00, 79.83it/s]\n",
      " 80%|████████  | 110/137 [00:11<00:02,  9.78it/s]\n",
      "Running evaluation: 7it [00:00, 81.44it/s]\n",
      " 81%|████████  | 111/137 [00:11<00:02,  9.81it/s]\n",
      "Running evaluation: 7it [00:00, 81.57it/s]\n",
      " 82%|████████▏ | 112/137 [00:11<00:02,  9.85it/s]\n",
      "Running evaluation: 7it [00:00, 79.45it/s]\n",
      " 82%|████████▏ | 113/137 [00:11<00:02,  9.77it/s]\n",
      "Running evaluation: 7it [00:00, 77.78it/s]\n",
      " 83%|████████▎ | 114/137 [00:11<00:02,  9.68it/s]\n",
      "Running evaluation: 7it [00:00, 81.29it/s]\n",
      " 84%|████████▍ | 115/137 [00:11<00:02,  9.74it/s]\n",
      "Running evaluation: 7it [00:00, 81.49it/s]\n",
      " 85%|████████▍ | 116/137 [00:11<00:02,  9.80it/s]\n",
      "Running evaluation: 7it [00:00, 80.46it/s]\n",
      " 85%|████████▌ | 117/137 [00:12<00:02,  9.80it/s]\n",
      "Running evaluation: 7it [00:00, 80.67it/s]\n",
      " 86%|████████▌ | 118/137 [00:12<00:01,  9.81it/s]\n",
      "Running evaluation: 7it [00:00, 81.37it/s]\n",
      " 87%|████████▋ | 119/137 [00:12<00:01,  9.84it/s]\n",
      "Running evaluation: 7it [00:00, 78.34it/s]\n",
      " 88%|████████▊ | 120/137 [00:12<00:01,  9.74it/s]\n",
      "Running evaluation: 7it [00:00, 79.76it/s]\n",
      " 88%|████████▊ | 121/137 [00:12<00:01,  9.70it/s]\n",
      "Running evaluation: 7it [00:00, 79.34it/s]\n",
      " 89%|████████▉ | 122/137 [00:12<00:01,  9.64it/s]\n",
      "Running evaluation: 7it [00:00, 78.06it/s]\n",
      " 90%|████████▉ | 123/137 [00:12<00:01,  9.58it/s]\n",
      "Running evaluation: 7it [00:00, 81.37it/s]\n",
      " 91%|█████████ | 124/137 [00:12<00:01,  9.67it/s]\n",
      "Running evaluation: 7it [00:00, 80.66it/s]\n",
      " 91%|█████████ | 125/137 [00:12<00:01,  9.72it/s]\n",
      "Running evaluation: 7it [00:00, 81.24it/s]\n",
      " 92%|█████████▏| 126/137 [00:13<00:01,  9.77it/s]\n",
      "Running evaluation: 7it [00:00, 82.04it/s]\n",
      " 93%|█████████▎| 127/137 [00:13<00:01,  9.83it/s]\n",
      "Running evaluation: 7it [00:00, 81.05it/s]\n",
      " 93%|█████████▎| 128/137 [00:13<00:00,  9.82it/s]\n",
      "Running evaluation: 7it [00:00, 83.03it/s]\n",
      "\n",
      "Running evaluation: 7it [00:00, 82.04it/s]\n",
      " 95%|█████████▍| 130/137 [00:13<00:00,  9.88it/s]\n",
      "Running evaluation: 7it [00:00, 80.86it/s]\n",
      " 96%|█████████▌| 131/137 [00:13<00:00,  9.86it/s]\n",
      "Running evaluation: 7it [00:00, 81.55it/s]\n",
      " 96%|█████████▋| 132/137 [00:13<00:00,  9.87it/s]\n",
      "Running evaluation: 7it [00:00, 81.48it/s]\n",
      " 97%|█████████▋| 133/137 [00:13<00:00,  9.88it/s]\n",
      "Running evaluation: 7it [00:00, 81.72it/s]\n",
      " 98%|█████████▊| 134/137 [00:13<00:00,  9.90it/s]\n",
      "Running evaluation: 7it [00:00, 81.09it/s]\n",
      " 99%|█████████▊| 135/137 [00:13<00:00,  9.82it/s]\n",
      "Running evaluation: 7it [00:00, 76.88it/s]\n",
      " 99%|█████████▉| 136/137 [00:14<00:00,  9.65it/s]\n",
      "Running evaluation: 7it [00:00, 81.92it/s]\n",
      "100%|██████████| 137/137 [00:14<00:00,  9.70it/s]\n",
      "Running evaluation: 7it [00:00, 61.47it/s]\n"
     ]
    }
   ],
   "source": [
    "predictor = estimator.train(dataset_train)\n",
    "forecast_it, ts_it = make_evaluation_predictions(dataset=dataset_test,\n",
    "                                             predictor=predictor,\n",
    "                                             num_samples=100)\n",
    "forecasts = list(forecast_it)\n",
    "targets = list(ts_it)\n",
    "\n",
    "agg_metric, _ = evaluator(targets, forecasts, num_series=len(dataset_test))"
   ]
  },
  {
   "cell_type": "markdown",
   "metadata": {},
   "source": [
    "### Metrics"
   ]
  },
  {
   "cell_type": "code",
   "execution_count": 19,
   "metadata": {},
   "outputs": [
    {
     "name": "stdout",
     "output_type": "stream",
     "text": [
      "CRPS: 0.3855313301520275\n",
      "ND: 0.48820539490099113\n",
      "NRMSE: 1.018839692673421\n",
      "MSE: 984.6672641166102\n"
     ]
    }
   ],
   "source": [
    "print(\"CRPS: {}\".format(agg_metric['mean_wQuantileLoss']))\n",
    "print(\"ND: {}\".format(agg_metric['ND']))\n",
    "print(\"NRMSE: {}\".format(agg_metric['NRMSE']))\n",
    "print(\"MSE: {}\".format(agg_metric['MSE']))"
   ]
  },
  {
   "cell_type": "code",
   "execution_count": 20,
   "metadata": {},
   "outputs": [
    {
     "name": "stdout",
     "output_type": "stream",
     "text": [
      "CRPS-Sum: 0.3268739166960563\n",
      "ND-Sum: 0.40321702146475014\n",
      "NRMSE-Sum: 0.75586334994103\n",
      "MSE-Sum: 10171980.5\n"
     ]
    }
   ],
   "source": [
    "print(\"CRPS-Sum: {}\".format(agg_metric['m_sum_mean_wQuantileLoss']))\n",
    "print(\"ND-Sum: {}\".format(agg_metric['m_sum_ND']))\n",
    "print(\"NRMSE-Sum: {}\".format(agg_metric['m_sum_NRMSE']))\n",
    "print(\"MSE-Sum: {}\".format(agg_metric['m_sum_MSE']))"
   ]
  },
  {
   "cell_type": "markdown",
   "metadata": {},
   "source": [
    "## `Transformer-MAF`"
   ]
  },
  {
   "cell_type": "code",
   "execution_count": 9,
   "metadata": {},
   "outputs": [],
   "source": [
    "estimator = TransformerTempFlowEstimator(\n",
    "    d_model=16,\n",
    "    num_heads=4,\n",
    "    input_size=552,\n",
    "    target_dim=int(dataset.metadata.feat_static_cat[0].cardinality),\n",
    "    prediction_length=dataset.metadata.prediction_length,\n",
    "    context_length=dataset.metadata.prediction_length*4,\n",
    "    flow_type='MAF',\n",
    "    dequantize=True,\n",
    "    freq=dataset.metadata.freq,\n",
    "    trainer=Trainer(\n",
    "        device=device,\n",
    "        epochs=14,\n",
    "        learning_rate=1e-3,\n",
    "        num_batches_per_epoch=100,\n",
    "        batch_size=64,\n",
    "    )\n",
    ")"
   ]
  },
  {
   "cell_type": "code",
   "execution_count": 10,
   "metadata": {},
   "outputs": [
    {
     "name": "stderr",
     "output_type": "stream",
     "text": [
      "98it [00:11,  8.71it/s, avg_epoch_loss=-44.8, epoch=0]\n",
      "98it [00:11,  8.60it/s, avg_epoch_loss=-170, epoch=1]\n",
      "99it [00:11,  8.82it/s, avg_epoch_loss=-189, epoch=2]\n",
      "98it [00:11,  8.83it/s, avg_epoch_loss=-201, epoch=3]\n",
      "99it [00:11,  8.80it/s, avg_epoch_loss=-208, epoch=4]\n",
      "98it [00:11,  8.72it/s, avg_epoch_loss=-212, epoch=5]\n",
      "99it [00:11,  8.83it/s, avg_epoch_loss=-216, epoch=6]\n",
      "99it [00:11,  8.80it/s, avg_epoch_loss=-218, epoch=7]\n",
      "99it [00:11,  8.84it/s, avg_epoch_loss=-220, epoch=8]\n",
      "98it [00:11,  8.74it/s, avg_epoch_loss=-222, epoch=9]\n",
      "99it [00:11,  8.92it/s, avg_epoch_loss=-223, epoch=10]\n",
      "99it [00:11,  8.74it/s, avg_epoch_loss=-225, epoch=11]\n",
      "99it [00:11,  8.84it/s, avg_epoch_loss=-226, epoch=12]\n",
      "99it [00:11,  8.88it/s, avg_epoch_loss=-227, epoch=13]\n",
      "  0%|          | 0/137 [00:00<?, ?it/s]\n",
      "Running evaluation: 7it [00:00, 77.77it/s]\n",
      "  1%|          | 1/137 [00:00<00:21,  6.33it/s]\n",
      "Running evaluation: 7it [00:00, 80.43it/s]\n",
      "  1%|▏         | 2/137 [00:00<00:19,  7.08it/s]\n",
      "Running evaluation: 7it [00:00, 80.35it/s]\n",
      "  2%|▏         | 3/137 [00:00<00:17,  7.72it/s]\n",
      "Running evaluation: 7it [00:00, 80.23it/s]\n",
      "  3%|▎         | 4/137 [00:00<00:16,  8.24it/s]\n",
      "Running evaluation: 7it [00:00, 79.80it/s]\n",
      "  4%|▎         | 5/137 [00:00<00:15,  8.64it/s]\n",
      "Running evaluation: 7it [00:00, 78.88it/s]\n",
      "  4%|▍         | 6/137 [00:00<00:14,  8.92it/s]\n",
      "Running evaluation: 7it [00:00, 80.12it/s]\n",
      "  5%|▌         | 7/137 [00:00<00:14,  9.17it/s]\n",
      "Running evaluation: 7it [00:00, 80.56it/s]\n",
      "  6%|▌         | 8/137 [00:00<00:13,  9.36it/s]\n",
      "Running evaluation: 7it [00:00, 80.12it/s]\n",
      "  7%|▋         | 9/137 [00:00<00:13,  9.48it/s]\n",
      "Running evaluation: 7it [00:00, 80.53it/s]\n",
      "  7%|▋         | 10/137 [00:01<00:13,  9.58it/s]\n",
      "Running evaluation: 7it [00:00, 80.50it/s]\n",
      "  8%|▊         | 11/137 [00:01<00:13,  9.65it/s]\n",
      "Running evaluation: 7it [00:00, 79.77it/s]\n",
      "  9%|▉         | 12/137 [00:01<00:12,  9.68it/s]\n",
      "Running evaluation: 7it [00:00, 80.35it/s]\n",
      "  9%|▉         | 13/137 [00:01<00:12,  9.71it/s]\n",
      "Running evaluation: 7it [00:00, 77.65it/s]\n",
      " 10%|█         | 14/137 [00:01<00:12,  9.63it/s]\n",
      "Running evaluation: 7it [00:00, 77.54it/s]\n",
      " 11%|█         | 15/137 [00:01<00:12,  9.55it/s]\n",
      "Running evaluation: 7it [00:00, 80.11it/s]\n",
      " 12%|█▏        | 16/137 [00:01<00:12,  9.61it/s]\n",
      "Running evaluation: 7it [00:00, 84.48it/s]\n",
      "\n",
      "Running evaluation: 7it [00:00, 82.61it/s]\n",
      " 13%|█▎        | 18/137 [00:01<00:12,  9.75it/s]\n",
      "Running evaluation: 7it [00:00, 81.09it/s]\n",
      " 14%|█▍        | 19/137 [00:01<00:12,  9.79it/s]\n",
      "Running evaluation: 7it [00:00, 80.75it/s]\n",
      " 15%|█▍        | 20/137 [00:02<00:11,  9.81it/s]\n",
      "Running evaluation: 7it [00:00, 80.87it/s]\n",
      " 15%|█▌        | 21/137 [00:02<00:11,  9.82it/s]\n",
      "Running evaluation: 7it [00:00, 80.69it/s]\n",
      " 16%|█▌        | 22/137 [00:02<00:11,  9.83it/s]\n",
      "Running evaluation: 7it [00:00, 80.07it/s]\n",
      " 17%|█▋        | 23/137 [00:02<00:11,  9.81it/s]\n",
      "Running evaluation: 7it [00:00, 80.81it/s]\n",
      " 18%|█▊        | 24/137 [00:02<00:11,  9.83it/s]\n",
      "Running evaluation: 7it [00:00, 78.27it/s]\n",
      " 18%|█▊        | 25/137 [00:02<00:11,  9.72it/s]\n",
      "Running evaluation: 7it [00:00, 76.40it/s]\n",
      " 19%|█▉        | 26/137 [00:02<00:11,  9.56it/s]\n",
      "Running evaluation: 7it [00:00, 79.52it/s]\n",
      " 20%|█▉        | 27/137 [00:02<00:11,  9.58it/s]\n",
      "Running evaluation: 7it [00:00, 81.30it/s]\n",
      " 20%|██        | 28/137 [00:02<00:11,  9.67it/s]\n",
      "Running evaluation: 7it [00:00, 81.19it/s]\n",
      " 21%|██        | 29/137 [00:03<00:11,  9.74it/s]\n",
      "Running evaluation: 7it [00:00, 78.78it/s]\n",
      " 22%|██▏       | 30/137 [00:03<00:11,  9.68it/s]\n",
      "Running evaluation: 7it [00:00, 76.67it/s]\n",
      " 23%|██▎       | 31/137 [00:03<00:11,  9.57it/s]\n",
      "Running evaluation: 7it [00:00, 77.69it/s]\n",
      " 23%|██▎       | 32/137 [00:03<00:11,  9.51it/s]\n",
      "Running evaluation: 7it [00:00, 80.35it/s]\n",
      " 24%|██▍       | 33/137 [00:03<00:10,  9.59it/s]\n",
      "Running evaluation: 7it [00:00, 81.23it/s]\n",
      " 25%|██▍       | 34/137 [00:03<00:10,  9.68it/s]\n",
      "Running evaluation: 7it [00:00, 79.28it/s]\n",
      " 26%|██▌       | 35/137 [00:03<00:10,  9.67it/s]\n",
      "Running evaluation: 7it [00:00, 80.90it/s]\n",
      " 26%|██▋       | 36/137 [00:03<00:10,  9.73it/s]\n",
      "Running evaluation: 7it [00:00, 80.90it/s]\n",
      " 27%|██▋       | 37/137 [00:03<00:10,  9.77it/s]\n",
      "Running evaluation: 7it [00:00, 79.11it/s]\n",
      " 28%|██▊       | 38/137 [00:03<00:10,  9.73it/s]\n",
      "Running evaluation: 7it [00:00, 81.05it/s]\n",
      " 28%|██▊       | 39/137 [00:04<00:10,  9.77it/s]\n",
      "Running evaluation: 7it [00:00, 81.01it/s]\n",
      " 29%|██▉       | 40/137 [00:04<00:09,  9.79it/s]\n",
      "Running evaluation: 7it [00:00, 80.60it/s]\n",
      " 30%|██▉       | 41/137 [00:04<00:09,  9.80it/s]\n",
      "Running evaluation: 7it [00:00, 81.29it/s]\n",
      " 31%|███       | 42/137 [00:04<00:09,  9.82it/s]\n",
      "Running evaluation: 7it [00:00, 81.37it/s]\n",
      " 31%|███▏      | 43/137 [00:04<00:09,  9.84it/s]\n",
      "Running evaluation: 7it [00:00, 81.04it/s]\n",
      " 32%|███▏      | 44/137 [00:04<00:09,  9.86it/s]\n",
      "Running evaluation: 7it [00:00, 79.97it/s]\n",
      " 33%|███▎      | 45/137 [00:04<00:09,  9.83it/s]\n",
      "Running evaluation: 7it [00:00, 80.23it/s]\n",
      " 34%|███▎      | 46/137 [00:04<00:09,  9.82it/s]\n",
      "Running evaluation: 7it [00:00, 80.90it/s]\n",
      " 34%|███▍      | 47/137 [00:04<00:09,  9.84it/s]\n",
      "Running evaluation: 7it [00:00, 81.12it/s]\n",
      " 35%|███▌      | 48/137 [00:04<00:09,  9.84it/s]\n",
      "Running evaluation: 7it [00:00, 81.41it/s]\n",
      " 36%|███▌      | 49/137 [00:05<00:08,  9.87it/s]\n",
      "Running evaluation: 7it [00:00, 81.62it/s]\n",
      " 36%|███▋      | 50/137 [00:05<00:08,  9.89it/s]\n",
      "Running evaluation: 7it [00:00, 79.46it/s]\n",
      " 37%|███▋      | 51/137 [00:05<00:08,  9.83it/s]\n",
      "Running evaluation: 7it [00:00, 81.46it/s]\n",
      " 38%|███▊      | 52/137 [00:05<00:08,  9.86it/s]\n",
      "Running evaluation: 7it [00:00, 81.03it/s]\n",
      " 39%|███▊      | 53/137 [00:05<00:08,  9.85it/s]\n",
      "Running evaluation: 7it [00:00, 79.10it/s]\n",
      " 39%|███▉      | 54/137 [00:05<00:08,  9.80it/s]\n",
      "Running evaluation: 7it [00:00, 79.98it/s]\n",
      " 40%|████      | 55/137 [00:05<00:08,  9.78it/s]\n",
      "Running evaluation: 7it [00:00, 77.92it/s]\n",
      " 41%|████      | 56/137 [00:05<00:08,  9.70it/s]\n",
      "Running evaluation: 7it [00:00, 81.25it/s]\n",
      " 42%|████▏     | 57/137 [00:05<00:08,  9.74it/s]\n",
      "Running evaluation: 7it [00:00, 82.88it/s]\n",
      " 42%|████▏     | 58/137 [00:05<00:08,  9.81it/s]\n",
      "Running evaluation: 7it [00:00, 80.94it/s]\n",
      " 43%|████▎     | 59/137 [00:06<00:07,  9.83it/s]\n",
      "Running evaluation: 7it [00:00, 80.83it/s]\n",
      " 44%|████▍     | 60/137 [00:06<00:07,  9.84it/s]\n",
      "Running evaluation: 7it [00:00, 80.61it/s]\n",
      " 45%|████▍     | 61/137 [00:06<00:07,  9.84it/s]\n",
      "Running evaluation: 7it [00:00, 80.59it/s]\n",
      " 45%|████▌     | 62/137 [00:06<00:07,  9.84it/s]\n",
      "Running evaluation: 7it [00:00, 81.34it/s]\n",
      " 46%|████▌     | 63/137 [00:06<00:07,  9.85it/s]\n",
      "Running evaluation: 7it [00:00, 81.29it/s]\n",
      " 47%|████▋     | 64/137 [00:06<00:07,  9.81it/s]\n",
      "Running evaluation: 7it [00:00, 80.27it/s]\n",
      " 47%|████▋     | 65/137 [00:06<00:07,  9.79it/s]\n",
      "Running evaluation: 7it [00:00, 82.31it/s]\n",
      " 48%|████▊     | 66/137 [00:06<00:07,  9.84it/s]\n",
      "Running evaluation: 7it [00:00, 81.17it/s]\n",
      " 49%|████▉     | 67/137 [00:06<00:07,  9.85it/s]\n",
      "Running evaluation: 7it [00:00, 80.44it/s]\n",
      " 50%|████▉     | 68/137 [00:07<00:07,  9.82it/s]\n",
      "Running evaluation: 7it [00:00, 80.87it/s]\n",
      " 50%|█████     | 69/137 [00:07<00:06,  9.79it/s]\n",
      "Running evaluation: 7it [00:00, 78.47it/s]\n",
      " 51%|█████     | 70/137 [00:07<00:06,  9.71it/s]\n",
      "Running evaluation: 7it [00:00, 81.03it/s]\n",
      " 52%|█████▏    | 71/137 [00:07<00:06,  9.76it/s]\n",
      "Running evaluation: 7it [00:00, 78.82it/s]\n",
      " 53%|█████▎    | 72/137 [00:07<00:06,  9.69it/s]\n",
      "Running evaluation: 7it [00:00, 78.15it/s]\n",
      " 53%|█████▎    | 73/137 [00:07<00:06,  9.61it/s]\n",
      "Running evaluation: 7it [00:00, 77.70it/s]\n",
      " 54%|█████▍    | 74/137 [00:07<00:06,  9.58it/s]\n",
      "Running evaluation: 7it [00:00, 80.61it/s]\n",
      " 55%|█████▍    | 75/137 [00:07<00:06,  9.63it/s]\n",
      "Running evaluation: 7it [00:00, 79.33it/s]\n",
      " 55%|█████▌    | 76/137 [00:07<00:06,  9.65it/s]\n",
      "Running evaluation: 7it [00:00, 80.99it/s]\n",
      " 56%|█████▌    | 77/137 [00:07<00:06,  9.70it/s]\n",
      "Running evaluation: 7it [00:00, 81.21it/s]\n",
      " 57%|█████▋    | 78/137 [00:08<00:06,  9.74it/s]\n",
      "Running evaluation: 7it [00:00, 81.20it/s]\n",
      " 58%|█████▊    | 79/137 [00:08<00:05,  9.77it/s]\n",
      "Running evaluation: 7it [00:00, 80.63it/s]\n",
      " 58%|█████▊    | 80/137 [00:08<00:05,  9.77it/s]\n",
      "Running evaluation: 7it [00:00, 83.25it/s]\n",
      "\n",
      "Running evaluation: 7it [00:00, 82.19it/s]\n"
     ]
    },
    {
     "name": "stderr",
     "output_type": "stream",
     "text": [
      " 60%|█████▉    | 82/137 [00:08<00:05,  9.86it/s]\n",
      "Running evaluation: 7it [00:00, 81.32it/s]\n",
      " 61%|██████    | 83/137 [00:08<00:05,  9.86it/s]\n",
      "Running evaluation: 7it [00:00, 79.08it/s]\n",
      " 61%|██████▏   | 84/137 [00:08<00:05,  9.81it/s]\n",
      "Running evaluation: 0it [00:00, ?it/s]\u001b[A\n",
      "Running evaluation: 7it [00:00, 59.80it/s]\u001b[A\n",
      " 62%|██████▏   | 85/137 [00:08<00:05,  8.89it/s]\n",
      "Running evaluation: 0it [00:00, ?it/s]\u001b[A\n",
      "Running evaluation: 7it [00:00, 61.93it/s]\u001b[A\n",
      " 63%|██████▎   | 86/137 [00:08<00:05,  8.53it/s]\n",
      "Running evaluation: 0it [00:00, ?it/s]\u001b[A\n",
      "Running evaluation: 7it [00:00, 62.18it/s]\u001b[A\n",
      " 64%|██████▎   | 87/137 [00:09<00:06,  8.27it/s]\n",
      "Running evaluation: 7it [00:00, 79.80it/s]\n",
      " 64%|██████▍   | 88/137 [00:09<00:05,  8.67it/s]\n",
      "Running evaluation: 7it [00:00, 81.51it/s]\n",
      " 65%|██████▍   | 89/137 [00:09<00:05,  8.98it/s]\n",
      "Running evaluation: 7it [00:00, 81.50it/s]\n",
      " 66%|██████▌   | 90/137 [00:09<00:05,  9.24it/s]\n",
      "Running evaluation: 7it [00:00, 81.78it/s]\n",
      " 66%|██████▋   | 91/137 [00:09<00:04,  9.43it/s]\n",
      "Running evaluation: 7it [00:00, 83.24it/s]\n",
      " 67%|██████▋   | 92/137 [00:09<00:04,  9.58it/s]\n",
      "Running evaluation: 7it [00:00, 81.40it/s]\n",
      " 68%|██████▊   | 93/137 [00:09<00:04,  9.66it/s]\n",
      "Running evaluation: 7it [00:00, 82.05it/s]\n",
      " 69%|██████▊   | 94/137 [00:09<00:04,  9.76it/s]\n",
      "Running evaluation: 7it [00:00, 81.61it/s]\n",
      " 69%|██████▉   | 95/137 [00:09<00:04,  9.82it/s]\n",
      "Running evaluation: 7it [00:00, 78.35it/s]\n",
      " 70%|███████   | 96/137 [00:09<00:04,  9.73it/s]\n",
      "Running evaluation: 7it [00:00, 80.77it/s]\n",
      " 71%|███████   | 97/137 [00:10<00:04,  9.76it/s]\n",
      "Running evaluation: 7it [00:00, 82.27it/s]\n",
      " 72%|███████▏  | 98/137 [00:10<00:03,  9.81it/s]\n",
      "Running evaluation: 7it [00:00, 81.60it/s]\n",
      " 72%|███████▏  | 99/137 [00:10<00:03,  9.85it/s]\n",
      "Running evaluation: 7it [00:00, 82.25it/s]\n",
      " 73%|███████▎  | 100/137 [00:10<00:03,  9.89it/s]\n",
      "Running evaluation: 7it [00:00, 81.72it/s]\n",
      " 74%|███████▎  | 101/137 [00:10<00:03,  9.88it/s]\n",
      "Running evaluation: 7it [00:00, 83.37it/s]\n",
      "\n",
      "Running evaluation: 7it [00:00, 81.87it/s]\n",
      " 75%|███████▌  | 103/137 [00:10<00:03,  9.93it/s]\n",
      "Running evaluation: 7it [00:00, 81.33it/s]\n",
      " 76%|███████▌  | 104/137 [00:10<00:03,  9.91it/s]\n",
      "Running evaluation: 7it [00:00, 80.90it/s]\n",
      " 77%|███████▋  | 105/137 [00:10<00:03,  9.90it/s]\n",
      "Running evaluation: 7it [00:00, 81.45it/s]\n",
      " 77%|███████▋  | 106/137 [00:10<00:03,  9.91it/s]\n",
      "Running evaluation: 7it [00:00, 80.97it/s]\n",
      " 78%|███████▊  | 107/137 [00:11<00:03,  9.90it/s]\n",
      "Running evaluation: 7it [00:00, 81.81it/s]\n",
      " 79%|███████▉  | 108/137 [00:11<00:02,  9.90it/s]\n",
      "Running evaluation: 7it [00:00, 82.78it/s]\n",
      "\n",
      "Running evaluation: 7it [00:00, 80.04it/s]\n",
      " 80%|████████  | 110/137 [00:11<00:02,  9.90it/s]\n",
      "Running evaluation: 7it [00:00, 82.18it/s]\n",
      " 81%|████████  | 111/137 [00:11<00:02,  9.91it/s]\n",
      "Running evaluation: 7it [00:00, 82.26it/s]\n",
      "\n",
      "Running evaluation: 7it [00:00, 80.87it/s]\n",
      " 82%|████████▏ | 113/137 [00:11<00:02,  9.92it/s]\n",
      "Running evaluation: 0it [00:00, ?it/s]\u001b[A\n",
      "Running evaluation: 7it [00:00, 54.86it/s]\u001b[A\n",
      " 83%|████████▎ | 114/137 [00:11<00:02,  8.71it/s]\n",
      "Running evaluation: 0it [00:00, ?it/s]\u001b[A\n",
      "Running evaluation: 7it [00:00, 58.60it/s]\u001b[A\n",
      " 84%|████████▍ | 115/137 [00:11<00:02,  8.25it/s]\n",
      "Running evaluation: 7it [00:00, 75.16it/s]\n",
      " 85%|████████▍ | 116/137 [00:12<00:02,  8.49it/s]\n",
      "Running evaluation: 0it [00:00, ?it/s]\u001b[A\n",
      "Running evaluation: 7it [00:00, 57.53it/s]\u001b[A\n",
      " 85%|████████▌ | 117/137 [00:12<00:02,  8.00it/s]\n",
      "Running evaluation: 0it [00:00, ?it/s]\u001b[A\n",
      "Running evaluation: 7it [00:00, 57.26it/s]\u001b[A\n",
      " 86%|████████▌ | 118/137 [00:12<00:02,  7.70it/s]\n",
      "Running evaluation: 7it [00:00, 80.55it/s]\n",
      " 87%|████████▋ | 119/137 [00:12<00:02,  8.21it/s]\n",
      "Running evaluation: 7it [00:00, 81.74it/s]\n",
      " 88%|████████▊ | 120/137 [00:12<00:01,  8.67it/s]\n",
      "Running evaluation: 7it [00:00, 79.56it/s]\n",
      " 88%|████████▊ | 121/137 [00:12<00:01,  8.95it/s]\n",
      "Running evaluation: 7it [00:00, 81.46it/s]\n",
      " 89%|████████▉ | 122/137 [00:12<00:01,  9.22it/s]\n",
      "Running evaluation: 7it [00:00, 80.89it/s]\n",
      " 90%|████████▉ | 123/137 [00:12<00:01,  9.40it/s]\n",
      "Running evaluation: 7it [00:00, 80.92it/s]\n",
      " 91%|█████████ | 124/137 [00:12<00:01,  9.52it/s]\n",
      "Running evaluation: 7it [00:00, 81.09it/s]\n",
      " 91%|█████████ | 125/137 [00:13<00:01,  9.61it/s]\n",
      "Running evaluation: 7it [00:00, 82.04it/s]\n",
      " 92%|█████████▏| 126/137 [00:13<00:01,  9.70it/s]\n",
      "Running evaluation: 7it [00:00, 81.77it/s]\n",
      " 93%|█████████▎| 127/137 [00:13<00:01,  9.78it/s]\n",
      "Running evaluation: 7it [00:00, 81.17it/s]\n",
      " 93%|█████████▎| 128/137 [00:13<00:00,  9.81it/s]\n",
      "Running evaluation: 7it [00:00, 81.65it/s]\n",
      " 94%|█████████▍| 129/137 [00:13<00:00,  9.82it/s]\n",
      "Running evaluation: 7it [00:00, 81.73it/s]\n",
      " 95%|█████████▍| 130/137 [00:13<00:00,  9.82it/s]\n",
      "Running evaluation: 7it [00:00, 81.02it/s]\n",
      " 96%|█████████▌| 131/137 [00:13<00:00,  9.80it/s]\n",
      "Running evaluation: 7it [00:00, 80.68it/s]\n",
      " 96%|█████████▋| 132/137 [00:13<00:00,  9.78it/s]\n",
      "Running evaluation: 7it [00:00, 81.46it/s]\n",
      " 97%|█████████▋| 133/137 [00:13<00:00,  9.79it/s]\n",
      "Running evaluation: 7it [00:00, 82.36it/s]\n",
      "\n",
      "Running evaluation: 7it [00:00, 79.63it/s]\n",
      " 99%|█████████▊| 135/137 [00:14<00:00,  9.81it/s]\n",
      "Running evaluation: 7it [00:00, 80.53it/s]\n",
      " 99%|█████████▉| 136/137 [00:14<00:00,  9.81it/s]\n",
      "Running evaluation: 7it [00:00, 80.42it/s]\n",
      "100%|██████████| 137/137 [00:14<00:00,  9.59it/s]\n",
      "Running evaluation: 7it [00:00, 62.66it/s]\n"
     ]
    }
   ],
   "source": [
    "predictor = estimator.train(dataset_train)\n",
    "forecast_it, ts_it = make_evaluation_predictions(dataset=dataset_test,\n",
    "                                             predictor=predictor,\n",
    "                                             num_samples=100)\n",
    "forecasts = list(forecast_it)\n",
    "targets = list(ts_it)\n",
    "\n",
    "agg_metric, _ = evaluator(targets, forecasts, num_series=len(dataset_test))"
   ]
  },
  {
   "cell_type": "markdown",
   "metadata": {},
   "source": [
    "### Metrics"
   ]
  },
  {
   "cell_type": "code",
   "execution_count": 11,
   "metadata": {},
   "outputs": [
    {
     "name": "stdout",
     "output_type": "stream",
     "text": [
      "CRPS: 0.37264046134993567\n",
      "ND: 0.5043621354947913\n",
      "NRMSE: 0.9928759300158241\n",
      "MSE: 935.1208752979203\n"
     ]
    }
   ],
   "source": [
    "print(\"CRPS: {}\".format(agg_metric['mean_wQuantileLoss']))\n",
    "print(\"ND: {}\".format(agg_metric['ND']))\n",
    "print(\"NRMSE: {}\".format(agg_metric['NRMSE']))\n",
    "print(\"MSE: {}\".format(agg_metric['MSE']))"
   ]
  },
  {
   "cell_type": "code",
   "execution_count": 12,
   "metadata": {},
   "outputs": [
    {
     "name": "stdout",
     "output_type": "stream",
     "text": [
      "CRPS-Sum: 0.30787625107438427\n",
      "ND-Sum: 0.4188356756894787\n",
      "NRMSE-Sum: 0.7504274205713227\n",
      "MSE-Sum: 10026199.285714285\n"
     ]
    }
   ],
   "source": [
    "print(\"CRPS-Sum: {}\".format(agg_metric['m_sum_mean_wQuantileLoss']))\n",
    "print(\"ND-Sum: {}\".format(agg_metric['m_sum_ND']))\n",
    "print(\"NRMSE-Sum: {}\".format(agg_metric['m_sum_NRMSE']))\n",
    "print(\"MSE-Sum: {}\".format(agg_metric['m_sum_MSE']))"
   ]
  },
  {
   "cell_type": "code",
   "execution_count": null,
   "metadata": {},
   "outputs": [],
   "source": []
  }
 ],
 "metadata": {
  "kernelspec": {
   "display_name": "Python 3",
   "language": "python",
   "name": "python3"
  },
  "language_info": {
   "codemirror_mode": {
    "name": "ipython",
    "version": 3
   },
   "file_extension": ".py",
   "mimetype": "text/x-python",
   "name": "python",
   "nbconvert_exporter": "python",
   "pygments_lexer": "ipython3",
   "version": "3.7.4"
  }
 },
 "nbformat": 4,
 "nbformat_minor": 4
}