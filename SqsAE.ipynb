{
 "cells": [
  {
   "cell_type": "code",
   "execution_count": null,
   "metadata": {
    "collapsed": true
   },
   "outputs": [],
   "source": []
  },
  {
   "cell_type": "code",
   "execution_count": 1,
   "outputs": [
    {
     "ename": "SyntaxError",
     "evalue": "invalid syntax (4113966173.py, line 35)",
     "output_type": "error",
     "traceback": [
      "\u001B[1;36m  File \u001B[1;32m\"C:\\Users\\Enki\\AppData\\Local\\Temp\\ipykernel_18628\\4113966173.py\"\u001B[1;36m, line \u001B[1;32m35\u001B[0m\n\u001B[1;33m    x[i, self.char_indices[c]] =\u001B[0m\n\u001B[1;37m                                ^\u001B[0m\n\u001B[1;31mSyntaxError\u001B[0m\u001B[1;31m:\u001B[0m invalid syntax\n"
     ]
    }
   ],
   "source": [
    "from keras.models import Sequential\n",
    "from keras import layers\n",
    "from keras.utils import plot_model\n",
    "import numpy as np\n",
    "from six.moves import range\n",
    "from IPython.display import Image\n",
    "\n",
    "class CharacterTable(object):\n",
    "    \"\"\"\n",
    "    给予一组的字符:\n",
    "    + 将这些字符使用one-hot编码成数字表示\n",
    "    + 译码one-hot编码数字表示成为原本的字符\n",
    "    + 解码字符机率的向量以回复最有可能的字符\n",
    "    \"\"\"\n",
    "    def __init__(self, chars):\n",
    "        \"\"\"初始化字符表\n",
    "\n",
    "        # 参数:\n",
    "            chars: 会出现在输入的可能字符集\n",
    "        \"\"\"\n",
    "        self.chars = sorted(set(chars))\n",
    "        self.char_indices = dict((c, i) for i, c in enumerate(self.chars))\n",
    "        self.indices_char = dict((i, c) for i, c in enumerate(self.chars))\n",
    "\n",
    "    def encode(self, C, num_rows):\n",
    "        \"\"\"对输入的字符串进行one-hot编码\n",
    "\n",
    "        # 参数:\n",
    "            C: 要被编码的字符\n",
    "            num_rows: one-hot编码后要回传的最大行数。这是用来确保每一个输入都会得到\n",
    "            相同行数的输出\n",
    "        \"\"\"\n",
    "        x = np.zeros((num_rows, len(self.chars)))\n",
    "        for i, c in enumerate(C):\n",
    "            x[i, self.char_indices[c]] =\n",
    "        return x\n",
    "\n",
    "    def decode(self, x, calc_argmax=True):\n",
    "        \"\"\"对输入的编码(向量)进行译码\n",
    "\n",
    "        # 参数:\n",
    "            x: 要被译码的字符向量或字符编码\n",
    "            calc_argmax: 是否要用argmax算符找出机率最大的字符编码\n",
    "        \"\"\"\n",
    "        if calc_argmax:\n",
    "            x = x.argmax(axis=-1)\n",
    "        return ''.join(self.indices_char[x] for x in x)\n",
    "\n",
    "class colors:\n",
    "    ok = '\\033[92m'\n",
    "    fail = '\\033[91m'\n",
    "close = '\\033[0m'\n"
   ],
   "metadata": {
    "collapsed": false,
    "pycharm": {
     "name": "#%%\n"
    }
   }
  },
  {
   "cell_type": "code",
   "execution_count": null,
   "outputs": [],
   "source": [
    "#模型与数据集的参数\n",
    "TRAINING_SIZE = 50000 # 训练数据集的samples数\n",
    "DIGITS = 3            # 加数或被加数的字符数\n",
    "INVERT = True\n",
    "\n",
    "#输入的最大长度 'int + int' (比如, '345+678')\n",
    "MAXLEN = DIGITS + 1 + DIGITS\n",
    "\n",
    "#所有要用到的字符(包括数字、加号及空格)\n",
    "chars = '0123456789+ '\n",
    "ctable = CharacterTable(chars) # 创建CharacterTable的instance\n",
    "\n",
    "questions = [] # 训练用的句子 \"xxx+yyy\"\n",
    "expected = []  # 训练用的标签\n",
    "seen = set()\n",
    "\n",
    "print('Generating data...') # 产生训练数据\n",
    "\n",
    "while len(questions) < TRAINING_SIZE:\n",
    "    # 数字产生器 (3个字符)\n",
    "    f = lambda: int(''.join(np.random.choice(list('0123456789'))\n",
    "                           for i in range(np.random.randint(, DIGITS+))))\n",
    "    a, b = f(), f()\n",
    "    # 跳过己经看过的题目以及x+Y = Y+x这样的题目\n",
    "    key = tuple(sorted((a, b)))\n",
    "    if key in seen:\n",
    "        continue\n",
    "    seen.add(key)\n",
    "\n",
    "    # 当数字不足MAXLEN则填补空白\n",
    "    q = '{}+{}'.format(a, b)\n",
    "    query = q + ' ' * (MAXLEN - len(q))\n",
    "    ans = str(a + b)\n",
    "\n",
    "    # 答案的最大的字符长度为DIGITS + 1\n",
    "    ans += ' ' * (DIGITS +  - len(ans))\n",
    "    if INVERT:\n",
    "        # 调转问题字符的方向, 比如. '12+345'变成'543+21'\n",
    "        query = query[::-1]\n",
    "    questions.append(query)\n",
    "    expected.append(ans)\n",
    "\n",
    "print('Total addition questions:', len(questions))"
   ],
   "metadata": {
    "collapsed": false,
    "pycharm": {
     "name": "#%%\n"
    }
   }
  },
  {
   "cell_type": "code",
   "execution_count": null,
   "outputs": [],
   "source": [
    "# 把数据做适当的转换, LSTM预期的数据结构 -> [samples, timesteps, features]\n",
    "print('Vectorization...')\n",
    "x = np.zeros((len(questions), MAXLEN, len(chars)), dtype=np.bool) # 初始一个维的numpy ndarray (特征数据)\n",
    "y = np.zeros((len(questions), DIGITS + , len(chars)), dtype=np.bool) # 初始一个维的numpy ndarray (卷标数据)\n",
    "\n",
    "# 将\"特征数据\"转换成LSTM预期的数据结构 -> [samples, timesteps, features]\n",
    "for i, sentence in enumerate(questions):\n",
    "    x[i] = ctable.encode(sentence, MAXLEN)      # <--- 要了解为什么要这样整理资料\n",
    "\n",
    "print(\"Feature data: \", x.shape)\n",
    "\n",
    "# 将\"卷标数据\"转换成LSTM预期的数据结构 -> [samples, timesteps, features]\n",
    "for i, sentence in enumerate(expected):\n",
    "    y[i] = ctable.encode(sentence, DIGITS + )  # <--- 要了解为什么要这样整理资料\n",
    "\n",
    "print(\"Label data: \", y.shape)\n",
    "# 打散 Shuffle(x, y)\n",
    "indices = np.arange(len(y))\n",
    "np.random.shuffle(indices)\n",
    "x = x[indices]\n",
    "y = y[indices]\n",
    "# 保留%的数据来做为验证\n",
    "split_at = len(x) - len(x) //\n",
    "(x_train, x_val) = x[:split_at], x[split_at:]\n",
    "(y_train, y_val) = y[:split_at], y[split_at:]\n",
    "print('Training Data:')\n",
    "print(x_train.shape)\n",
    "print(y_train.shape)\n",
    "print('Validation Data:')\n",
    "print(x_val.shape)\n",
    "print(y_val.shape)"
   ],
   "metadata": {
    "collapsed": false,
    "pycharm": {
     "name": "#%%\n"
    }
   }
  }
 ],
 "metadata": {
  "kernelspec": {
   "display_name": "Python 3",
   "language": "python",
   "name": "python3"
  },
  "language_info": {
   "codemirror_mode": {
    "name": "ipython",
    "version": 2
   },
   "file_extension": ".py",
   "mimetype": "text/x-python",
   "name": "python",
   "nbconvert_exporter": "python",
   "pygments_lexer": "ipython2",
   "version": "2.7.6"
  }
 },
 "nbformat": 4,
 "nbformat_minor": 0
}